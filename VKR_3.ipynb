{
  "cells": [
    {
      "cell_type": "markdown",
      "metadata": {
        "id": "-i184aj3ioCT"
      },
      "source": [
        "**Импортируем библиотеки**"
      ]
    },
    {
      "cell_type": "code",
      "execution_count": null,
      "metadata": {
        "id": "3AMzmxxqil0M"
      },
      "outputs": [],
      "source": [
        "#импортируем библиотеки\n",
        "import numpy as np\n",
        "import pandas as pd\n",
        "import matplotlib.pyplot as plt\n",
        "%matplotlib inline\n",
        "import seaborn as sns\n",
        "import plotly.express as px\n",
        "import sklearn\n",
        "from sklearn import preprocessing\n",
        "from sklearn.preprocessing import Normalizer, LabelEncoder, MinMaxScaler, StandardScaler\n",
        "import pickle"
      ]
    },
    {
      "cell_type": "code",
      "execution_count": null,
      "metadata": {
        "id": "5KjuW2VUksdN"
      },
      "outputs": [],
      "source": [
        "#импорт\n",
        "from sklearn import linear_model\n",
        "from sklearn.ensemble import RandomForestRegressor, GradientBoostingRegressor\n",
        "from sklearn.linear_model import LinearRegression, LogisticRegression, SGDRegressor\n",
        "from sklearn.metrics import mean_squared_error, r2_score, mean_absolute_percentage_error, mean_absolute_error, accuracy_score, precision_score\n",
        "from sklearn.metrics import mean_absolute_error, accuracy_score, precision_score\n",
        "from sklearn.model_selection import train_test_split, GridSearchCV, KFold, cross_val_score\n",
        "from sklearn.neighbors import KNeighborsRegressor\n",
        "from sklearn.neural_network import MLPRegressor\n",
        "from sklearn.pipeline import make_pipeline, Pipeline\n",
        "from sklearn import preprocessing\n",
        "from sklearn.preprocessing import Normalizer, LabelEncoder, MinMaxScaler, StandardScaler\n",
        "from sklearn.svm import SVR\n",
        "from sklearn.tree import DecisionTreeRegressor\n",
        "\n",
        "from tensorflow import keras as keras\n",
        "from tensorflow.keras import layers\n",
        "from tensorflow.keras.layers import Dense, Flatten, Dropout, BatchNormalization, Activation\n",
        "from pandas import read_excel, DataFrame, Series\n",
        "from keras.wrappers.scikit_learn import KerasClassifier, KerasRegressor\n",
        "from tensorflow.keras.models import Sequential\n",
        "from numpy.random import seed\n",
        "from scipy import stats\n",
        "import warnings\n",
        "warnings.filterwarnings(\"ignore\")"
      ]
    },
    {
      "cell_type": "markdown",
      "metadata": {
        "id": "QlcvezDF9IEl"
      },
      "source": [
        "**Модели для переменной \"Прочность при растяжнии\" (pr)**"
      ]
    },
    {
      "cell_type": "code",
      "execution_count": null,
      "metadata": {
        "id": "4mPTrDgODYvV"
      },
      "outputs": [],
      "source": [
        "dataset_pr = pd.read_excel(r'/content/dataset2.xlsx')\n",
        "dataset_pr"
      ]
    },
    {
      "cell_type": "code",
      "execution_count": null,
      "metadata": {
        "id": "S0LxAwA2vfLd"
      },
      "outputs": [],
      "source": [
        "dataset_pr.drop(dataset_pr.columns[7], axis = 1, inplace=True)\n",
        "dataset_pr"
      ]
    },
    {
      "cell_type": "code",
      "execution_count": null,
      "metadata": {
        "id": "n4-O1NpF31Ot"
      },
      "outputs": [],
      "source": [
        "dataset_pr.info()"
      ]
    },
    {
      "cell_type": "code",
      "execution_count": null,
      "metadata": {
        "id": "Bsa4viPGeTKA"
      },
      "outputs": [],
      "source": [
        "#разбиваем на выборки\n",
        "X_train_pr, X_test_pr, y_train_pr, y_test_pr = train_test_split(\n",
        "    dataset_pr.loc[:, dataset_pr.columns != 'Прочность при растяжении, МПа'],\n",
        "    dataset_pr[['Прочность при растяжении, МПа']],\n",
        "       test_size = 0.3,\n",
        "    random_state = 42)"
      ]
    },
    {
      "cell_type": "code",
      "execution_count": null,
      "metadata": {
        "id": "8p5INcWRmMZo"
      },
      "outputs": [],
      "source": [
        "X_train_pr.shape"
      ]
    },
    {
      "cell_type": "code",
      "execution_count": null,
      "metadata": {
        "id": "DitUXFcKl-rB"
      },
      "outputs": [],
      "source": [
        "X_test_pr.shape"
      ]
    },
    {
      "cell_type": "code",
      "execution_count": null,
      "metadata": {
        "id": "UMlhrsNhmiis"
      },
      "outputs": [],
      "source": [
        "y_train_pr.shape"
      ]
    },
    {
      "cell_type": "code",
      "execution_count": null,
      "metadata": {
        "id": "ObiuOaWTmmdO"
      },
      "outputs": [],
      "source": [
        "y_test_pr.shape"
      ]
    },
    {
      "cell_type": "markdown",
      "metadata": {
        "id": "OuLtkkutzQfI"
      },
      "source": [
        "**Случайный лес**"
      ]
    },
    {
      "cell_type": "code",
      "execution_count": null,
      "metadata": {
        "id": "6nLZkAUGzX58"
      },
      "outputs": [],
      "source": [
        "#построение модели и вузуализация метода случайный лес\n",
        "rfr = RandomForestRegressor(n_estimators=15, max_depth=7, random_state=33)\n",
        "rfr.fit(X_train_pr, y_train_pr.values)\n",
        "y_forest = rfr.predict(X_test_pr)"
      ]
    },
    {
      "cell_type": "code",
      "execution_count": null,
      "metadata": {
        "id": "zjtUqz5S1W4y"
      },
      "outputs": [],
      "source": [
        "mean_absolute_forest = mean_absolute_error(y_test_pr, y_forest)*100\n",
        "mean_squared_forest = mean_squared_error(y_test_pr, y_forest)\n",
        "r2_score_forest = r2_score(y_test_pr, y_forest)\n",
        "mean_absolute_percentage_forest = mean_absolute_percentage_error(y_test_pr, y_forest)*100\n",
        "print('Средняя абсолютная ошибка', mean_absolute_forest)\n",
        "print('Средняя квадратичная ошибка', mean_squared_forest)\n",
        "print('Коэффициент детерминации', r2_score_forest)\n",
        "print('Средняя абсолютная процентная ошибка', mean_absolute_percentage_forest)"
      ]
    },
    {
      "cell_type": "code",
      "execution_count": null,
      "metadata": {
        "id": "9qfxD4sc5bqo"
      },
      "outputs": [],
      "source": [
        "plt.figure(figsize = (10, 7))\n",
        "plt.title('Тестовые и прогнозные значения Метода случайного леса')\n",
        "plt.plot(y_forest, label = 'Прогноз', color = 'red')\n",
        "plt.plot(y_test_pr.values, label = 'Тест', color = 'green')\n",
        "plt.xlabel('Количество наблюдений')\n",
        "plt.ylabel('Прочность при растяжении, МПа')\n",
        "plt.legend()\n",
        "plt.grid(True)"
      ]
    },
    {
      "cell_type": "markdown",
      "metadata": {
        "id": "hQU45UAp20RH"
      },
      "source": [
        "**К-ближайших соседей**"
      ]
    },
    {
      "cell_type": "code",
      "execution_count": null,
      "metadata": {
        "id": "2auBPXLz26nj"
      },
      "outputs": [],
      "source": [
        "#построение модели и вузуализация Метода К ближайших соседей\n",
        "knn = KNeighborsRegressor(n_neighbors=5)\n",
        "knn.fit(X_train_pr, y_train_pr)\n",
        "y_knn = knn.predict(X_test_pr)"
      ]
    },
    {
      "cell_type": "code",
      "execution_count": null,
      "metadata": {
        "id": "irQm1P3V3H_B"
      },
      "outputs": [],
      "source": [
        "mean_absolute_knn = mean_absolute_error(y_test_pr, y_knn)*100\n",
        "mean_squared_knn = mean_squared_error(y_test_pr, y_knn)\n",
        "r2_score_knn = r2_score(y_test_pr, y_knn)\n",
        "mean_absolute_percentage_knn = mean_absolute_percentage_error(y_test_pr, y_knn)*100\n",
        "print('Средняя абсолютная ошибка', mean_absolute_knn)\n",
        "print('Средняя квадратичная ошибка', mean_squared_knn)\n",
        "print('Коэффициент детерминации', r2_score_knn)\n",
        "print('Средняя абсолютная процентная ошибка', mean_absolute_percentage_knn)"
      ]
    },
    {
      "cell_type": "code",
      "execution_count": null,
      "metadata": {
        "id": "SYUEuCX16osJ"
      },
      "outputs": [],
      "source": [
        "plt.figure(figsize = (10, 7))\n",
        "plt.title('Тестовые и прогнозные значения Метода К-ближайших соседей')\n",
        "plt.plot(y_knn, label = 'Прогноз', color = 'red')\n",
        "plt.plot(y_test_pr.values, label = 'Тест', color = 'green')\n",
        "plt.xlabel('Количество наблюдений')\n",
        "plt.ylabel('Прочность при растяжении, МПа')\n",
        "plt.legend()\n",
        "plt.grid(True)"
      ]
    },
    {
      "cell_type": "markdown",
      "metadata": {
        "id": "S65_sEXe3dnj"
      },
      "source": [
        "**Дерево решений**"
      ]
    },
    {
      "cell_type": "code",
      "execution_count": null,
      "metadata": {
        "id": "B_927EYM3go_"
      },
      "outputs": [],
      "source": [
        "#построение модели и вузуализация Метода дерево решений\n",
        "dtr = DecisionTreeRegressor()\n",
        "dtr.fit(X_train_pr, y_train_pr.values)\n",
        "y_dtr = dtr.predict(X_test_pr)"
      ]
    },
    {
      "cell_type": "code",
      "execution_count": null,
      "metadata": {
        "id": "pJ0XL-hH3sQ2"
      },
      "outputs": [],
      "source": [
        "mean_absolute_dtr = mean_absolute_error(y_test_pr, y_dtr)*100\n",
        "mean_squared_dtr = mean_squared_error(y_test_pr, y_dtr)\n",
        "r2_score_dtr = r2_score(y_test_pr, y_dtr)\n",
        "mean_absolute_percentage_dtr = mean_absolute_percentage_error(y_test_pr, y_dtr)*100\n",
        "print('Средняя абсолютная ошибка', mean_absolute_dtr)\n",
        "print('Средняя квадратичная ошибка', mean_squared_dtr)\n",
        "print('Коэффициент детерминации', r2_score_dtr)\n",
        "print('Средняя абсолютная процентная ошибка', mean_absolute_percentage_dtr)"
      ]
    },
    {
      "cell_type": "code",
      "execution_count": null,
      "metadata": {
        "id": "uRg22uT76zXf"
      },
      "outputs": [],
      "source": [
        "plt.figure(figsize = (10, 7))\n",
        "plt.title('Тестовые и прогнозные значения Метода дерева решений')\n",
        "plt.plot(y_dtr, label = 'Прогноз', color = 'red')\n",
        "plt.plot(y_test_pr.values, label = 'Тест', color = 'green')\n",
        "plt.xlabel('Количество наблюдений')\n",
        "plt.ylabel('Прочность при растяжении, МПа')\n",
        "plt.legend()\n",
        "plt.grid(True)"
      ]
    },
    {
      "cell_type": "code",
      "execution_count": null,
      "metadata": {
        "id": "xafCS_vqfntx"
      },
      "outputs": [],
      "source": [
        "res = {'Модель':['Случайный лес',\n",
        "                 'К-ближайших соседей', 'Дерево решений'],\n",
        "       'Средняя абсолютная ошибка' : [mean_absolute_forest,\n",
        "                                      mean_absolute_knn, mean_absolute_dtr],\n",
        "       'Средняя квадратичная ошибка' : [mean_squared_forest,\n",
        "                                      mean_squared_knn, mean_squared_dtr],\n",
        "       'Коэффициент детерминации' : [r2_score_forest,\n",
        "                                      r2_score_knn, r2_score_dtr],\n",
        "       'Средняя абсолютная процентная ошибка': [mean_absolute_percentage_forest,\n",
        "                                      mean_absolute_percentage_knn, mean_absolute_percentage_dtr]}"
      ]
    },
    {
      "cell_type": "code",
      "execution_count": null,
      "metadata": {
        "id": "UcpvhJ0wiQFz"
      },
      "outputs": [],
      "source": [
        "res = pd.DataFrame(res)\n",
        "res"
      ]
    },
    {
      "cell_type": "markdown",
      "metadata": {
        "id": "usTH1UPWphfr"
      },
      "source": [
        "**Подбор гиперпараметров**"
      ]
    },
    {
      "cell_type": "code",
      "execution_count": null,
      "metadata": {
        "id": "FmRzOwGqyJRB"
      },
      "outputs": [],
      "source": [
        "#Случайный лес\n",
        "parametrs = { 'n_estimators': [200, 300],\n",
        "              'max_depth': [9, 15],\n",
        "              'max_features': ['auto'],\n",
        "              'criterion': ['mse'] }\n",
        "grid = GridSearchCV(estimator = rfr, param_grid = parametrs, cv = 10)\n",
        "grid.fit(X_train_pr, y_train_pr)"
      ]
    },
    {
      "cell_type": "code",
      "execution_count": null,
      "metadata": {
        "id": "u4Jm5pFxvKcQ"
      },
      "outputs": [],
      "source": [
        "#параметры лучшей модели\n",
        "grid.best_params_"
      ]
    },
    {
      "cell_type": "code",
      "execution_count": null,
      "metadata": {
        "id": "ENdZSvqsO2L6"
      },
      "outputs": [],
      "source": [
        "#ошибка на лучшей модели\n",
        "print(grid.best_score_)"
      ]
    },
    {
      "cell_type": "code",
      "execution_count": null,
      "metadata": {
        "id": "ZHYIGoXDvndf"
      },
      "outputs": [],
      "source": [
        "rfr_grid = RandomForestRegressor(n_estimators=300, criterion='mse', max_depth=15, random_state=33)"
      ]
    },
    {
      "cell_type": "code",
      "execution_count": null,
      "metadata": {
        "id": "b-cAyLZlv7YO"
      },
      "outputs": [],
      "source": [
        "rfr_grid.fit(X_train_pr, y_train_pr.values)"
      ]
    },
    {
      "cell_type": "code",
      "execution_count": null,
      "metadata": {
        "id": "g8DM-mCLwdau"
      },
      "outputs": [],
      "source": [
        "y_forest_grid = rfr_grid.predict(X_test_pr)"
      ]
    },
    {
      "cell_type": "code",
      "execution_count": null,
      "metadata": {
        "id": "QL_BdOirwqIf"
      },
      "outputs": [],
      "source": [
        "mean_absolute_forest1 = mean_absolute_error(y_test_pr, y_forest_grid)*100\n",
        "mean_squared_forest1 = mean_squared_error(y_test_pr, y_forest_grid)\n",
        "r2_score_forest1 = r2_score(y_test_pr, y_forest_grid)\n",
        "mean_absolute_percentage_forest1 = mean_absolute_percentage_error(y_test_pr, y_forest_grid)*100\n",
        "print('Средняя абсолютная ошибка', mean_absolute_forest1)\n",
        "print('Средняя квадратичная ошибка', mean_squared_forest1)\n",
        "print('Коэффициент детерминации', r2_score_forest1)\n",
        "print('Средняя абсолютная процентная ошибка', mean_absolute_percentage_forest1)"
      ]
    },
    {
      "cell_type": "code",
      "execution_count": null,
      "metadata": {
        "id": "_kxiue-6zZCT"
      },
      "outputs": [],
      "source": [
        "plt.figure(figsize = (10, 7))\n",
        "plt.title('Тестовые и прогнозные значения Метода случайного леса')\n",
        "plt.plot(y_forest, label = 'Прогноз', color = 'red')\n",
        "plt.plot(y_test_pr.values, label = 'Тест', color = 'green')\n",
        "plt.xlabel('Количество наблюдений')\n",
        "plt.ylabel('Модуль упругости при растяжении, ГПа')\n",
        "plt.legend()\n",
        "plt.grid(True)"
      ]
    },
    {
      "cell_type": "code",
      "execution_count": null,
      "metadata": {
        "id": "36c_f_gHvtSC"
      },
      "outputs": [],
      "source": [
        "#К ближайших соседей\n",
        "knn = KNeighborsRegressor()\n",
        "knn_params = {'n_neighbors' : range(1, 301, 2), \n",
        "          'weights' : ['uniform', 'distance'],\n",
        "          'algorithm' : ['auto', 'ball_tree', 'kd_tree', 'brute']\n",
        "          }\n",
        "gs = GridSearchCV(knn, knn_params, cv = 10, verbose = 1, n_jobs =-1, scoring = 'r2')\n",
        "gs.fit(X_train_pr, y_train_pr)"
      ]
    },
    {
      "cell_type": "code",
      "execution_count": null,
      "metadata": {
        "id": "KYgoaMQE5Ec8"
      },
      "outputs": [],
      "source": [
        "#параметры лучшей модели\n",
        "gs.best_params_"
      ]
    },
    {
      "cell_type": "code",
      "execution_count": null,
      "metadata": {
        "id": "UEnehjbRWp9-"
      },
      "outputs": [],
      "source": [
        "#ошибка на лучшей модели\n",
        "print(gs.best_score_)"
      ]
    },
    {
      "cell_type": "code",
      "execution_count": null,
      "metadata": {
        "id": "_4ca6QXT5t3n"
      },
      "outputs": [],
      "source": [
        "knn_grid = KNeighborsRegressor(algorithm = 'brute', n_neighbors = 3, weights = 'distance')"
      ]
    },
    {
      "cell_type": "code",
      "execution_count": null,
      "metadata": {
        "id": "XDb6XRhg6MBh"
      },
      "outputs": [],
      "source": [
        "knn_grid.fit(X_train_pr, y_train_pr)"
      ]
    },
    {
      "cell_type": "code",
      "execution_count": null,
      "metadata": {
        "id": "ktGXZzzj6b1g"
      },
      "outputs": [],
      "source": [
        "y_knn_grid = rfr_grid.predict(X_test_pr)"
      ]
    },
    {
      "cell_type": "code",
      "execution_count": null,
      "metadata": {
        "id": "ZD9X4t-R6n83"
      },
      "outputs": [],
      "source": [
        "mean_absolute_knn1 = mean_absolute_error(y_test_pr, y_knn_grid)*100\n",
        "mean_squared_knn1 = mean_squared_error(y_test_pr, y_knn_grid)\n",
        "r2_score_knn1 = r2_score(y_test_pr, y_knn_grid)\n",
        "mean_absolute_percentage_knn1 = mean_absolute_percentage_error(y_test_pr, y_knn_grid)*100\n",
        "print('Средняя абсолютная ошибка', mean_absolute_knn1)\n",
        "print('Средняя квадратичная ошибка', mean_squared_knn1)\n",
        "print('Коэффициент детерминации', r2_score_knn1)\n",
        "print('Средняя абсолютная процентная ошибка', mean_absolute_percentage_knn1)"
      ]
    },
    {
      "cell_type": "code",
      "execution_count": null,
      "metadata": {
        "id": "eQPIINFm61If"
      },
      "outputs": [],
      "source": [
        "plt.figure(figsize = (10, 7))\n",
        "plt.title('Тестовые и прогнозные значения Метода случайного леса')\n",
        "plt.plot(y_knn_grid, label = 'Прогноз', color = 'red')\n",
        "plt.plot(y_test_pr.values, label = 'Тест', color = 'green')\n",
        "plt.xlabel('Количество наблюдений')\n",
        "plt.ylabel('Модуль упругости при растяжении, ГПа')\n",
        "plt.legend()\n",
        "plt.grid(True)"
      ]
    },
    {
      "cell_type": "code",
      "execution_count": null,
      "metadata": {
        "id": "xEDSW3SZ03I7"
      },
      "outputs": [],
      "source": [
        "#Дерево решений\n",
        "param_gr = {'criterion': ['squared_error', 'friedman_mse', 'absolute_error', 'poisson'],\n",
        "               'splitter': ['best', 'random'],\n",
        "               'max_depth': [3,5,7,9,11],\n",
        "               'min_samples_split': [200,250,300],\n",
        "               'min_samples_leaf': [100,150,200],\n",
        "               'max_features': ['auto', 'sqrt', 'log2']}\n",
        "grids = GridSearchCV(dtr, param_gr, cv = 10, verbose = 1, n_jobs=-1, scoring = 'r2')\n",
        "grids.fit(X_train_pr, y_train_pr)"
      ]
    },
    {
      "cell_type": "code",
      "execution_count": null,
      "metadata": {
        "id": "TklQNm0k8ip6"
      },
      "outputs": [],
      "source": [
        "#параметры лучшей модели\n",
        "grids.best_params_"
      ]
    },
    {
      "cell_type": "code",
      "execution_count": null,
      "metadata": {
        "id": "wpdUNWjVYmex"
      },
      "outputs": [],
      "source": [
        "#ошибка на лучшей модели\n",
        "print(grids.best_score_)"
      ]
    },
    {
      "cell_type": "code",
      "execution_count": null,
      "metadata": {
        "id": "sic_B5ta9V9P"
      },
      "outputs": [],
      "source": [
        "dtr_grid = DecisionTreeRegressor(criterion='friedman_mse', max_depth=5, max_features='auto',\n",
        "                      min_samples_leaf=100, min_samples_split=200, splitter='best')"
      ]
    },
    {
      "cell_type": "code",
      "execution_count": null,
      "metadata": {
        "id": "dgqnSWTh9j6N"
      },
      "outputs": [],
      "source": [
        "dtr_grid.fit(X_train_pr, y_train_pr)"
      ]
    },
    {
      "cell_type": "code",
      "execution_count": null,
      "metadata": {
        "id": "EDtTF_DB9qLF"
      },
      "outputs": [],
      "source": [
        "y_dtr_grid = rfr_grid.predict(X_test_pr)"
      ]
    },
    {
      "cell_type": "code",
      "execution_count": null,
      "metadata": {
        "id": "Wh_5l6EU9zA4"
      },
      "outputs": [],
      "source": [
        "mean_absolute_dtr1 = mean_absolute_error(y_test_pr, y_dtr_grid)*100\n",
        "mean_squared_dtr1 = mean_squared_error(y_test_pr, y_dtr_grid)\n",
        "r2_score_dtr1 = r2_score(y_test_pr, y_dtr_grid)\n",
        "mean_absolute_percentage_dtr1 = mean_absolute_percentage_error(y_test_pr, y_dtr_grid)*100\n",
        "print('Средняя абсолютная ошибка', mean_absolute_dtr1)\n",
        "print('Средняя квадратичная ошибка', mean_squared_dtr1)\n",
        "print('Коэффициент детерминации', r2_score_dtr1)\n",
        "print('Средняя абсолютная процентная ошибка', mean_absolute_percentage_dtr1)"
      ]
    },
    {
      "cell_type": "code",
      "execution_count": null,
      "metadata": {
        "id": "cPCaeiAZ9-BN"
      },
      "outputs": [],
      "source": [
        "plt.figure(figsize = (10, 7))\n",
        "plt.title('Тестовые и прогнозные значения Метода случайного леса')\n",
        "plt.plot(y_dtr_grid, label = 'Прогноз', color = 'red')\n",
        "plt.plot(y_test_pr.values, label = 'Тест', color = 'green')\n",
        "plt.xlabel('Количество наблюдений')\n",
        "plt.ylabel('Модуль упругости при растяжении, ГПа')\n",
        "plt.legend()\n",
        "plt.grid(True)"
      ]
    },
    {
      "cell_type": "code",
      "execution_count": null,
      "metadata": {
        "id": "hpF1UXA5ZZEK"
      },
      "outputs": [],
      "source": [
        "res1 = {'Модель':['Случайный лес',\n",
        "                 'К-ближайших соседей', 'Дерево решений'],\n",
        "       'Средняя абсолютная ошибка' : [mean_absolute_forest1,\n",
        "                                      mean_absolute_knn1, mean_absolute_dtr1],\n",
        "       'Средняя квадратичная ошибка' : [mean_squared_forest1,\n",
        "                                      mean_squared_knn1, mean_squared_dtr1],\n",
        "       'Коэффициент детерминации' : [r2_score_forest1,\n",
        "                                      r2_score_knn1, r2_score_dtr1],\n",
        "       'Средняя абсолютная процентная ошибка': [mean_absolute_percentage_forest1,\n",
        "                                      mean_absolute_percentage_knn1, mean_absolute_percentage_dtr1]}"
      ]
    },
    {
      "cell_type": "code",
      "execution_count": null,
      "metadata": {
        "colab": {
          "base_uri": "https://localhost:8080/",
          "height": 143
        },
        "id": "rzY1k3-4Zetp",
        "outputId": "2d9c37c2-2832-4e00-b8c1-a567b986a906"
      },
      "outputs": [
        {
          "output_type": "execute_result",
          "data": {
            "text/plain": [
              "                Модель  Средняя абсолютная ошибка  \\\n",
              "0        Случайный лес                   0.921542   \n",
              "1  К-ближайших соседей                   0.921542   \n",
              "2       Дерево решений                   0.921542   \n",
              "\n",
              "   Средняя квадратичная ошибка  Коэффициент детерминации  \\\n",
              "0                     0.000216                  0.962246   \n",
              "1                     0.000216                  0.962246   \n",
              "2                     0.000216                  0.962246   \n",
              "\n",
              "   Средняя абсолютная процентная ошибка  \n",
              "0                              1.404376  \n",
              "1                              1.404376  \n",
              "2                              1.404376  "
            ],
            "text/html": [
              "\n",
              "  <div id=\"df-8eb206a9-6452-49bd-b307-8dc7271e66fa\">\n",
              "    <div class=\"colab-df-container\">\n",
              "      <div>\n",
              "<style scoped>\n",
              "    .dataframe tbody tr th:only-of-type {\n",
              "        vertical-align: middle;\n",
              "    }\n",
              "\n",
              "    .dataframe tbody tr th {\n",
              "        vertical-align: top;\n",
              "    }\n",
              "\n",
              "    .dataframe thead th {\n",
              "        text-align: right;\n",
              "    }\n",
              "</style>\n",
              "<table border=\"1\" class=\"dataframe\">\n",
              "  <thead>\n",
              "    <tr style=\"text-align: right;\">\n",
              "      <th></th>\n",
              "      <th>Модель</th>\n",
              "      <th>Средняя абсолютная ошибка</th>\n",
              "      <th>Средняя квадратичная ошибка</th>\n",
              "      <th>Коэффициент детерминации</th>\n",
              "      <th>Средняя абсолютная процентная ошибка</th>\n",
              "    </tr>\n",
              "  </thead>\n",
              "  <tbody>\n",
              "    <tr>\n",
              "      <th>0</th>\n",
              "      <td>Случайный лес</td>\n",
              "      <td>0.921542</td>\n",
              "      <td>0.000216</td>\n",
              "      <td>0.962246</td>\n",
              "      <td>1.404376</td>\n",
              "    </tr>\n",
              "    <tr>\n",
              "      <th>1</th>\n",
              "      <td>К-ближайших соседей</td>\n",
              "      <td>0.921542</td>\n",
              "      <td>0.000216</td>\n",
              "      <td>0.962246</td>\n",
              "      <td>1.404376</td>\n",
              "    </tr>\n",
              "    <tr>\n",
              "      <th>2</th>\n",
              "      <td>Дерево решений</td>\n",
              "      <td>0.921542</td>\n",
              "      <td>0.000216</td>\n",
              "      <td>0.962246</td>\n",
              "      <td>1.404376</td>\n",
              "    </tr>\n",
              "  </tbody>\n",
              "</table>\n",
              "</div>\n",
              "      <button class=\"colab-df-convert\" onclick=\"convertToInteractive('df-8eb206a9-6452-49bd-b307-8dc7271e66fa')\"\n",
              "              title=\"Convert this dataframe to an interactive table.\"\n",
              "              style=\"display:none;\">\n",
              "        \n",
              "  <svg xmlns=\"http://www.w3.org/2000/svg\" height=\"24px\"viewBox=\"0 0 24 24\"\n",
              "       width=\"24px\">\n",
              "    <path d=\"M0 0h24v24H0V0z\" fill=\"none\"/>\n",
              "    <path d=\"M18.56 5.44l.94 2.06.94-2.06 2.06-.94-2.06-.94-.94-2.06-.94 2.06-2.06.94zm-11 1L8.5 8.5l.94-2.06 2.06-.94-2.06-.94L8.5 2.5l-.94 2.06-2.06.94zm10 10l.94 2.06.94-2.06 2.06-.94-2.06-.94-.94-2.06-.94 2.06-2.06.94z\"/><path d=\"M17.41 7.96l-1.37-1.37c-.4-.4-.92-.59-1.43-.59-.52 0-1.04.2-1.43.59L10.3 9.45l-7.72 7.72c-.78.78-.78 2.05 0 2.83L4 21.41c.39.39.9.59 1.41.59.51 0 1.02-.2 1.41-.59l7.78-7.78 2.81-2.81c.8-.78.8-2.07 0-2.86zM5.41 20L4 18.59l7.72-7.72 1.47 1.35L5.41 20z\"/>\n",
              "  </svg>\n",
              "      </button>\n",
              "      \n",
              "  <style>\n",
              "    .colab-df-container {\n",
              "      display:flex;\n",
              "      flex-wrap:wrap;\n",
              "      gap: 12px;\n",
              "    }\n",
              "\n",
              "    .colab-df-convert {\n",
              "      background-color: #E8F0FE;\n",
              "      border: none;\n",
              "      border-radius: 50%;\n",
              "      cursor: pointer;\n",
              "      display: none;\n",
              "      fill: #1967D2;\n",
              "      height: 32px;\n",
              "      padding: 0 0 0 0;\n",
              "      width: 32px;\n",
              "    }\n",
              "\n",
              "    .colab-df-convert:hover {\n",
              "      background-color: #E2EBFA;\n",
              "      box-shadow: 0px 1px 2px rgba(60, 64, 67, 0.3), 0px 1px 3px 1px rgba(60, 64, 67, 0.15);\n",
              "      fill: #174EA6;\n",
              "    }\n",
              "\n",
              "    [theme=dark] .colab-df-convert {\n",
              "      background-color: #3B4455;\n",
              "      fill: #D2E3FC;\n",
              "    }\n",
              "\n",
              "    [theme=dark] .colab-df-convert:hover {\n",
              "      background-color: #434B5C;\n",
              "      box-shadow: 0px 1px 3px 1px rgba(0, 0, 0, 0.15);\n",
              "      filter: drop-shadow(0px 1px 2px rgba(0, 0, 0, 0.3));\n",
              "      fill: #FFFFFF;\n",
              "    }\n",
              "  </style>\n",
              "\n",
              "      <script>\n",
              "        const buttonEl =\n",
              "          document.querySelector('#df-8eb206a9-6452-49bd-b307-8dc7271e66fa button.colab-df-convert');\n",
              "        buttonEl.style.display =\n",
              "          google.colab.kernel.accessAllowed ? 'block' : 'none';\n",
              "\n",
              "        async function convertToInteractive(key) {\n",
              "          const element = document.querySelector('#df-8eb206a9-6452-49bd-b307-8dc7271e66fa');\n",
              "          const dataTable =\n",
              "            await google.colab.kernel.invokeFunction('convertToInteractive',\n",
              "                                                     [key], {});\n",
              "          if (!dataTable) return;\n",
              "\n",
              "          const docLinkHtml = 'Like what you see? Visit the ' +\n",
              "            '<a target=\"_blank\" href=https://colab.research.google.com/notebooks/data_table.ipynb>data table notebook</a>'\n",
              "            + ' to learn more about interactive tables.';\n",
              "          element.innerHTML = '';\n",
              "          dataTable['output_type'] = 'display_data';\n",
              "          await google.colab.output.renderOutput(dataTable, element);\n",
              "          const docLink = document.createElement('div');\n",
              "          docLink.innerHTML = docLinkHtml;\n",
              "          element.appendChild(docLink);\n",
              "        }\n",
              "      </script>\n",
              "    </div>\n",
              "  </div>\n",
              "  "
            ]
          },
          "metadata": {},
          "execution_count": 49
        }
      ],
      "source": [
        "res1 = pd.DataFrame(res1)\n",
        "res1"
      ]
    },
    {
      "cell_type": "markdown",
      "metadata": {
        "id": "wQgtYISM7TN2"
      },
      "source": [
        "**Создание нейронной сети**"
      ]
    },
    {
      "cell_type": "code",
      "execution_count": null,
      "metadata": {
        "id": "Kx2TzJdIAeMP"
      },
      "outputs": [],
      "source": [
        "dataset = pd.read_excel(r'/content/dataset2.xlsx')\n",
        "dataset.shape"
      ]
    },
    {
      "cell_type": "code",
      "execution_count": null,
      "metadata": {
        "id": "TXbMg-v37SxZ"
      },
      "outputs": [],
      "source": [
        "X_train, X_test, y_train, y_test = train_test_split(\n",
        "    dataset.loc[:, dataset.columns != 'Соотношение матрица-наполнитель'],\n",
        "    dataset[['Соотношение матрица-наполнитель']], test_size = 0.3, random_state = 14)\n"
      ]
    },
    {
      "cell_type": "code",
      "execution_count": null,
      "metadata": {
        "id": "Omz_sXaz1KwL"
      },
      "outputs": [],
      "source": [
        "import tensorflow as tf"
      ]
    },
    {
      "cell_type": "code",
      "execution_count": null,
      "metadata": {
        "id": "qoOYWPtcBQSG"
      },
      "outputs": [],
      "source": [
        "def create_model(lyrs=[32], act='relu', opt='SGD', dr=0.1):\n",
        "    seed = 7\n",
        "    np.random.seed(seed)\n",
        "    tf.random.set_seed(\n",
        "        seed\n",
        "    )\n",
        "    \n",
        "    model = Sequential()\n",
        "    model.add(Dense(lyrs[0], input_dim=X_train.shape[1], activation=act)) \n",
        "    for i in range(1,len(lyrs)):\n",
        "        model.add(Dense(lyrs[i], activation=act))\n",
        "    \n",
        "    model.add(Dropout(dr))\n",
        "    model.add(Dense(1, activation='relu'))  # выходной слой\n",
        "    \n",
        "    model.compile(loss='binary_crossentropy', optimizer=opt, metrics=['mae', 'accuracy'])\n",
        " \n",
        "    return model"
      ]
    },
    {
      "cell_type": "code",
      "source": [
        "model = create_model(lyrs=[128, 64, 16, 3], dr=0.05)"
      ],
      "metadata": {
        "id": "8pYGGXskoCIh"
      },
      "execution_count": null,
      "outputs": []
    },
    {
      "cell_type": "code",
      "source": [
        "print(model.summary())"
      ],
      "metadata": {
        "id": "dfW7xIc9oFGo"
      },
      "execution_count": null,
      "outputs": []
    },
    {
      "cell_type": "code",
      "source": [
        "history = model.fit(X_train, \n",
        "                    y_train, \n",
        "                    epochs = 100, \n",
        "                    verbose = 1, \n",
        "                    validation_split = 0.3)\n",
        "plt.plot(history.history['mae'],\n",
        "         label = 'Точность train')\n",
        "plt.plot(history.history['val_mae'],\n",
        "         label = 'Точность test')\n",
        "plt.xlabel('эпоха')\n",
        "plt.ylabel('точность')\n",
        "plt.legend()\n",
        "plt.show()"
      ],
      "metadata": {
        "colab": {
          "base_uri": "https://localhost:8080/",
          "height": 1000
        },
        "id": "URLkd2dhoNO0",
        "outputId": "b038e736-3ede-476d-f0f2-024746cde6fc"
      },
      "execution_count": null,
      "outputs": [
        {
          "output_type": "stream",
          "name": "stdout",
          "text": [
            "Epoch 1/100\n",
            "15/15 [==============================] - 2s 23ms/step - loss: 0.0135 - mae: 8.7581e-04 - accuracy: 0.0000e+00 - val_loss: 0.0135 - val_mae: 8.7817e-04 - val_accuracy: 0.0000e+00\n",
            "Epoch 2/100\n",
            "15/15 [==============================] - 0s 7ms/step - loss: 0.0135 - mae: 8.7581e-04 - accuracy: 0.0000e+00 - val_loss: 0.0135 - val_mae: 8.7817e-04 - val_accuracy: 0.0000e+00\n",
            "Epoch 3/100\n",
            "15/15 [==============================] - 0s 6ms/step - loss: 0.0135 - mae: 8.7581e-04 - accuracy: 0.0000e+00 - val_loss: 0.0135 - val_mae: 8.7817e-04 - val_accuracy: 0.0000e+00\n",
            "Epoch 4/100\n",
            "15/15 [==============================] - 0s 7ms/step - loss: 0.0135 - mae: 8.7581e-04 - accuracy: 0.0000e+00 - val_loss: 0.0135 - val_mae: 8.7817e-04 - val_accuracy: 0.0000e+00\n",
            "Epoch 5/100\n",
            "15/15 [==============================] - 0s 6ms/step - loss: 0.0135 - mae: 8.7581e-04 - accuracy: 0.0000e+00 - val_loss: 0.0135 - val_mae: 8.7817e-04 - val_accuracy: 0.0000e+00\n",
            "Epoch 6/100\n",
            "15/15 [==============================] - 0s 6ms/step - loss: 0.0135 - mae: 8.7581e-04 - accuracy: 0.0000e+00 - val_loss: 0.0135 - val_mae: 8.7817e-04 - val_accuracy: 0.0000e+00\n",
            "Epoch 7/100\n",
            "15/15 [==============================] - 0s 8ms/step - loss: 0.0135 - mae: 8.7581e-04 - accuracy: 0.0000e+00 - val_loss: 0.0135 - val_mae: 8.7817e-04 - val_accuracy: 0.0000e+00\n",
            "Epoch 8/100\n",
            "15/15 [==============================] - 0s 7ms/step - loss: 0.0135 - mae: 8.7581e-04 - accuracy: 0.0000e+00 - val_loss: 0.0135 - val_mae: 8.7817e-04 - val_accuracy: 0.0000e+00\n",
            "Epoch 9/100\n",
            "15/15 [==============================] - 0s 8ms/step - loss: 0.0135 - mae: 8.7581e-04 - accuracy: 0.0000e+00 - val_loss: 0.0135 - val_mae: 8.7817e-04 - val_accuracy: 0.0000e+00\n",
            "Epoch 10/100\n",
            "15/15 [==============================] - 0s 8ms/step - loss: 0.0135 - mae: 8.7581e-04 - accuracy: 0.0000e+00 - val_loss: 0.0135 - val_mae: 8.7817e-04 - val_accuracy: 0.0000e+00\n",
            "Epoch 11/100\n",
            "15/15 [==============================] - 0s 6ms/step - loss: 0.0135 - mae: 8.7581e-04 - accuracy: 0.0000e+00 - val_loss: 0.0135 - val_mae: 8.7817e-04 - val_accuracy: 0.0000e+00\n",
            "Epoch 12/100\n",
            "15/15 [==============================] - 0s 6ms/step - loss: 0.0135 - mae: 8.7581e-04 - accuracy: 0.0000e+00 - val_loss: 0.0135 - val_mae: 8.7817e-04 - val_accuracy: 0.0000e+00\n",
            "Epoch 13/100\n",
            "15/15 [==============================] - 0s 9ms/step - loss: 0.0135 - mae: 8.7581e-04 - accuracy: 0.0000e+00 - val_loss: 0.0135 - val_mae: 8.7817e-04 - val_accuracy: 0.0000e+00\n",
            "Epoch 14/100\n",
            "15/15 [==============================] - 0s 7ms/step - loss: 0.0135 - mae: 8.7581e-04 - accuracy: 0.0000e+00 - val_loss: 0.0135 - val_mae: 8.7817e-04 - val_accuracy: 0.0000e+00\n",
            "Epoch 15/100\n",
            "15/15 [==============================] - 0s 6ms/step - loss: 0.0135 - mae: 8.7581e-04 - accuracy: 0.0000e+00 - val_loss: 0.0135 - val_mae: 8.7817e-04 - val_accuracy: 0.0000e+00\n",
            "Epoch 16/100\n",
            "15/15 [==============================] - 0s 6ms/step - loss: 0.0135 - mae: 8.7581e-04 - accuracy: 0.0000e+00 - val_loss: 0.0135 - val_mae: 8.7817e-04 - val_accuracy: 0.0000e+00\n",
            "Epoch 17/100\n",
            "15/15 [==============================] - 0s 5ms/step - loss: 0.0135 - mae: 8.7581e-04 - accuracy: 0.0000e+00 - val_loss: 0.0135 - val_mae: 8.7817e-04 - val_accuracy: 0.0000e+00\n",
            "Epoch 18/100\n",
            "15/15 [==============================] - 0s 6ms/step - loss: 0.0135 - mae: 8.7581e-04 - accuracy: 0.0000e+00 - val_loss: 0.0135 - val_mae: 8.7817e-04 - val_accuracy: 0.0000e+00\n",
            "Epoch 19/100\n",
            "15/15 [==============================] - 0s 6ms/step - loss: 0.0135 - mae: 8.7581e-04 - accuracy: 0.0000e+00 - val_loss: 0.0135 - val_mae: 8.7817e-04 - val_accuracy: 0.0000e+00\n",
            "Epoch 20/100\n",
            "15/15 [==============================] - 0s 6ms/step - loss: 0.0135 - mae: 8.7581e-04 - accuracy: 0.0000e+00 - val_loss: 0.0135 - val_mae: 8.7817e-04 - val_accuracy: 0.0000e+00\n",
            "Epoch 21/100\n",
            "15/15 [==============================] - 0s 6ms/step - loss: 0.0135 - mae: 8.7581e-04 - accuracy: 0.0000e+00 - val_loss: 0.0135 - val_mae: 8.7817e-04 - val_accuracy: 0.0000e+00\n",
            "Epoch 22/100\n",
            "15/15 [==============================] - 0s 6ms/step - loss: 0.0135 - mae: 8.7581e-04 - accuracy: 0.0000e+00 - val_loss: 0.0135 - val_mae: 8.7817e-04 - val_accuracy: 0.0000e+00\n",
            "Epoch 23/100\n",
            "15/15 [==============================] - 0s 7ms/step - loss: 0.0135 - mae: 8.7581e-04 - accuracy: 0.0000e+00 - val_loss: 0.0135 - val_mae: 8.7817e-04 - val_accuracy: 0.0000e+00\n",
            "Epoch 24/100\n",
            "15/15 [==============================] - 0s 6ms/step - loss: 0.0135 - mae: 8.7581e-04 - accuracy: 0.0000e+00 - val_loss: 0.0135 - val_mae: 8.7817e-04 - val_accuracy: 0.0000e+00\n",
            "Epoch 25/100\n",
            "15/15 [==============================] - 0s 7ms/step - loss: 0.0135 - mae: 8.7581e-04 - accuracy: 0.0000e+00 - val_loss: 0.0135 - val_mae: 8.7817e-04 - val_accuracy: 0.0000e+00\n",
            "Epoch 26/100\n",
            "15/15 [==============================] - 0s 8ms/step - loss: 0.0135 - mae: 8.7581e-04 - accuracy: 0.0000e+00 - val_loss: 0.0135 - val_mae: 8.7817e-04 - val_accuracy: 0.0000e+00\n",
            "Epoch 27/100\n",
            "15/15 [==============================] - 0s 7ms/step - loss: 0.0135 - mae: 8.7581e-04 - accuracy: 0.0000e+00 - val_loss: 0.0135 - val_mae: 8.7817e-04 - val_accuracy: 0.0000e+00\n",
            "Epoch 28/100\n",
            "15/15 [==============================] - 0s 7ms/step - loss: 0.0135 - mae: 8.7581e-04 - accuracy: 0.0000e+00 - val_loss: 0.0135 - val_mae: 8.7817e-04 - val_accuracy: 0.0000e+00\n",
            "Epoch 29/100\n",
            "15/15 [==============================] - 0s 6ms/step - loss: 0.0135 - mae: 8.7581e-04 - accuracy: 0.0000e+00 - val_loss: 0.0135 - val_mae: 8.7817e-04 - val_accuracy: 0.0000e+00\n",
            "Epoch 30/100\n",
            "15/15 [==============================] - 0s 11ms/step - loss: 0.0135 - mae: 8.7581e-04 - accuracy: 0.0000e+00 - val_loss: 0.0135 - val_mae: 8.7817e-04 - val_accuracy: 0.0000e+00\n",
            "Epoch 31/100\n",
            "15/15 [==============================] - 0s 6ms/step - loss: 0.0135 - mae: 8.7581e-04 - accuracy: 0.0000e+00 - val_loss: 0.0135 - val_mae: 8.7817e-04 - val_accuracy: 0.0000e+00\n",
            "Epoch 32/100\n",
            "15/15 [==============================] - 0s 8ms/step - loss: 0.0135 - mae: 8.7581e-04 - accuracy: 0.0000e+00 - val_loss: 0.0135 - val_mae: 8.7817e-04 - val_accuracy: 0.0000e+00\n",
            "Epoch 33/100\n",
            "15/15 [==============================] - 0s 6ms/step - loss: 0.0135 - mae: 8.7581e-04 - accuracy: 0.0000e+00 - val_loss: 0.0135 - val_mae: 8.7817e-04 - val_accuracy: 0.0000e+00\n",
            "Epoch 34/100\n",
            "15/15 [==============================] - 0s 5ms/step - loss: 0.0135 - mae: 8.7581e-04 - accuracy: 0.0000e+00 - val_loss: 0.0135 - val_mae: 8.7817e-04 - val_accuracy: 0.0000e+00\n",
            "Epoch 35/100\n",
            "15/15 [==============================] - 0s 8ms/step - loss: 0.0135 - mae: 8.7581e-04 - accuracy: 0.0000e+00 - val_loss: 0.0135 - val_mae: 8.7817e-04 - val_accuracy: 0.0000e+00\n",
            "Epoch 36/100\n",
            "15/15 [==============================] - 0s 6ms/step - loss: 0.0135 - mae: 8.7581e-04 - accuracy: 0.0000e+00 - val_loss: 0.0135 - val_mae: 8.7817e-04 - val_accuracy: 0.0000e+00\n",
            "Epoch 37/100\n",
            "15/15 [==============================] - 0s 8ms/step - loss: 0.0135 - mae: 8.7581e-04 - accuracy: 0.0000e+00 - val_loss: 0.0135 - val_mae: 8.7817e-04 - val_accuracy: 0.0000e+00\n",
            "Epoch 38/100\n",
            "15/15 [==============================] - 0s 8ms/step - loss: 0.0135 - mae: 8.7581e-04 - accuracy: 0.0000e+00 - val_loss: 0.0135 - val_mae: 8.7817e-04 - val_accuracy: 0.0000e+00\n",
            "Epoch 39/100\n",
            "15/15 [==============================] - 0s 6ms/step - loss: 0.0135 - mae: 8.7581e-04 - accuracy: 0.0000e+00 - val_loss: 0.0135 - val_mae: 8.7817e-04 - val_accuracy: 0.0000e+00\n",
            "Epoch 40/100\n",
            "15/15 [==============================] - 0s 6ms/step - loss: 0.0135 - mae: 8.7581e-04 - accuracy: 0.0000e+00 - val_loss: 0.0135 - val_mae: 8.7817e-04 - val_accuracy: 0.0000e+00\n",
            "Epoch 41/100\n",
            "15/15 [==============================] - 0s 8ms/step - loss: 0.0135 - mae: 8.7581e-04 - accuracy: 0.0000e+00 - val_loss: 0.0135 - val_mae: 8.7817e-04 - val_accuracy: 0.0000e+00\n",
            "Epoch 42/100\n",
            "15/15 [==============================] - 0s 6ms/step - loss: 0.0135 - mae: 8.7581e-04 - accuracy: 0.0000e+00 - val_loss: 0.0135 - val_mae: 8.7817e-04 - val_accuracy: 0.0000e+00\n",
            "Epoch 43/100\n",
            "15/15 [==============================] - 0s 8ms/step - loss: 0.0135 - mae: 8.7581e-04 - accuracy: 0.0000e+00 - val_loss: 0.0135 - val_mae: 8.7817e-04 - val_accuracy: 0.0000e+00\n",
            "Epoch 44/100\n",
            "15/15 [==============================] - 0s 7ms/step - loss: 0.0135 - mae: 8.7581e-04 - accuracy: 0.0000e+00 - val_loss: 0.0135 - val_mae: 8.7817e-04 - val_accuracy: 0.0000e+00\n",
            "Epoch 45/100\n",
            "15/15 [==============================] - 0s 6ms/step - loss: 0.0135 - mae: 8.7581e-04 - accuracy: 0.0000e+00 - val_loss: 0.0135 - val_mae: 8.7817e-04 - val_accuracy: 0.0000e+00\n",
            "Epoch 46/100\n",
            "15/15 [==============================] - 0s 6ms/step - loss: 0.0135 - mae: 8.7581e-04 - accuracy: 0.0000e+00 - val_loss: 0.0135 - val_mae: 8.7817e-04 - val_accuracy: 0.0000e+00\n",
            "Epoch 47/100\n",
            "15/15 [==============================] - 0s 5ms/step - loss: 0.0135 - mae: 8.7581e-04 - accuracy: 0.0000e+00 - val_loss: 0.0135 - val_mae: 8.7817e-04 - val_accuracy: 0.0000e+00\n",
            "Epoch 48/100\n",
            "15/15 [==============================] - 0s 7ms/step - loss: 0.0135 - mae: 8.7581e-04 - accuracy: 0.0000e+00 - val_loss: 0.0135 - val_mae: 8.7817e-04 - val_accuracy: 0.0000e+00\n",
            "Epoch 49/100\n",
            "15/15 [==============================] - 0s 8ms/step - loss: 0.0135 - mae: 8.7581e-04 - accuracy: 0.0000e+00 - val_loss: 0.0135 - val_mae: 8.7817e-04 - val_accuracy: 0.0000e+00\n",
            "Epoch 50/100\n",
            "15/15 [==============================] - 0s 6ms/step - loss: 0.0135 - mae: 8.7581e-04 - accuracy: 0.0000e+00 - val_loss: 0.0135 - val_mae: 8.7817e-04 - val_accuracy: 0.0000e+00\n",
            "Epoch 51/100\n",
            "15/15 [==============================] - 0s 7ms/step - loss: 0.0135 - mae: 8.7581e-04 - accuracy: 0.0000e+00 - val_loss: 0.0135 - val_mae: 8.7817e-04 - val_accuracy: 0.0000e+00\n",
            "Epoch 52/100\n",
            "15/15 [==============================] - 0s 6ms/step - loss: 0.0135 - mae: 8.7581e-04 - accuracy: 0.0000e+00 - val_loss: 0.0135 - val_mae: 8.7817e-04 - val_accuracy: 0.0000e+00\n",
            "Epoch 53/100\n",
            "15/15 [==============================] - 0s 7ms/step - loss: 0.0135 - mae: 8.7581e-04 - accuracy: 0.0000e+00 - val_loss: 0.0135 - val_mae: 8.7817e-04 - val_accuracy: 0.0000e+00\n",
            "Epoch 54/100\n",
            "15/15 [==============================] - 0s 6ms/step - loss: 0.0135 - mae: 8.7581e-04 - accuracy: 0.0000e+00 - val_loss: 0.0135 - val_mae: 8.7817e-04 - val_accuracy: 0.0000e+00\n",
            "Epoch 55/100\n",
            "15/15 [==============================] - 0s 6ms/step - loss: 0.0135 - mae: 8.7581e-04 - accuracy: 0.0000e+00 - val_loss: 0.0135 - val_mae: 8.7817e-04 - val_accuracy: 0.0000e+00\n",
            "Epoch 56/100\n",
            "15/15 [==============================] - 0s 5ms/step - loss: 0.0135 - mae: 8.7581e-04 - accuracy: 0.0000e+00 - val_loss: 0.0135 - val_mae: 8.7817e-04 - val_accuracy: 0.0000e+00\n",
            "Epoch 57/100\n",
            "15/15 [==============================] - 0s 5ms/step - loss: 0.0135 - mae: 8.7581e-04 - accuracy: 0.0000e+00 - val_loss: 0.0135 - val_mae: 8.7817e-04 - val_accuracy: 0.0000e+00\n",
            "Epoch 58/100\n",
            "15/15 [==============================] - 0s 5ms/step - loss: 0.0135 - mae: 8.7581e-04 - accuracy: 0.0000e+00 - val_loss: 0.0135 - val_mae: 8.7817e-04 - val_accuracy: 0.0000e+00\n",
            "Epoch 59/100\n",
            "15/15 [==============================] - 0s 6ms/step - loss: 0.0135 - mae: 8.7581e-04 - accuracy: 0.0000e+00 - val_loss: 0.0135 - val_mae: 8.7817e-04 - val_accuracy: 0.0000e+00\n",
            "Epoch 60/100\n",
            "15/15 [==============================] - 0s 6ms/step - loss: 0.0135 - mae: 8.7581e-04 - accuracy: 0.0000e+00 - val_loss: 0.0135 - val_mae: 8.7817e-04 - val_accuracy: 0.0000e+00\n",
            "Epoch 61/100\n",
            "15/15 [==============================] - 0s 5ms/step - loss: 0.0135 - mae: 8.7581e-04 - accuracy: 0.0000e+00 - val_loss: 0.0135 - val_mae: 8.7817e-04 - val_accuracy: 0.0000e+00\n",
            "Epoch 62/100\n",
            "15/15 [==============================] - 0s 6ms/step - loss: 0.0135 - mae: 8.7581e-04 - accuracy: 0.0000e+00 - val_loss: 0.0135 - val_mae: 8.7817e-04 - val_accuracy: 0.0000e+00\n",
            "Epoch 63/100\n",
            "15/15 [==============================] - 0s 6ms/step - loss: 0.0135 - mae: 8.7581e-04 - accuracy: 0.0000e+00 - val_loss: 0.0135 - val_mae: 8.7817e-04 - val_accuracy: 0.0000e+00\n",
            "Epoch 64/100\n",
            "15/15 [==============================] - 0s 6ms/step - loss: 0.0135 - mae: 8.7581e-04 - accuracy: 0.0000e+00 - val_loss: 0.0135 - val_mae: 8.7817e-04 - val_accuracy: 0.0000e+00\n",
            "Epoch 65/100\n",
            "15/15 [==============================] - 0s 6ms/step - loss: 0.0135 - mae: 8.7581e-04 - accuracy: 0.0000e+00 - val_loss: 0.0135 - val_mae: 8.7817e-04 - val_accuracy: 0.0000e+00\n",
            "Epoch 66/100\n",
            "15/15 [==============================] - 0s 6ms/step - loss: 0.0135 - mae: 8.7581e-04 - accuracy: 0.0000e+00 - val_loss: 0.0135 - val_mae: 8.7817e-04 - val_accuracy: 0.0000e+00\n",
            "Epoch 67/100\n",
            "15/15 [==============================] - 0s 5ms/step - loss: 0.0135 - mae: 8.7581e-04 - accuracy: 0.0000e+00 - val_loss: 0.0135 - val_mae: 8.7817e-04 - val_accuracy: 0.0000e+00\n",
            "Epoch 68/100\n",
            "15/15 [==============================] - 0s 7ms/step - loss: 0.0135 - mae: 8.7581e-04 - accuracy: 0.0000e+00 - val_loss: 0.0135 - val_mae: 8.7817e-04 - val_accuracy: 0.0000e+00\n",
            "Epoch 69/100\n",
            "15/15 [==============================] - 0s 6ms/step - loss: 0.0135 - mae: 8.7581e-04 - accuracy: 0.0000e+00 - val_loss: 0.0135 - val_mae: 8.7817e-04 - val_accuracy: 0.0000e+00\n",
            "Epoch 70/100\n",
            "15/15 [==============================] - 0s 5ms/step - loss: 0.0135 - mae: 8.7581e-04 - accuracy: 0.0000e+00 - val_loss: 0.0135 - val_mae: 8.7817e-04 - val_accuracy: 0.0000e+00\n",
            "Epoch 71/100\n",
            "15/15 [==============================] - 0s 7ms/step - loss: 0.0135 - mae: 8.7581e-04 - accuracy: 0.0000e+00 - val_loss: 0.0135 - val_mae: 8.7817e-04 - val_accuracy: 0.0000e+00\n",
            "Epoch 72/100\n",
            "15/15 [==============================] - 0s 6ms/step - loss: 0.0135 - mae: 8.7581e-04 - accuracy: 0.0000e+00 - val_loss: 0.0135 - val_mae: 8.7817e-04 - val_accuracy: 0.0000e+00\n",
            "Epoch 73/100\n",
            "15/15 [==============================] - 0s 5ms/step - loss: 0.0135 - mae: 8.7581e-04 - accuracy: 0.0000e+00 - val_loss: 0.0135 - val_mae: 8.7817e-04 - val_accuracy: 0.0000e+00\n",
            "Epoch 74/100\n",
            "15/15 [==============================] - 0s 6ms/step - loss: 0.0135 - mae: 8.7581e-04 - accuracy: 0.0000e+00 - val_loss: 0.0135 - val_mae: 8.7817e-04 - val_accuracy: 0.0000e+00\n",
            "Epoch 75/100\n",
            "15/15 [==============================] - 0s 6ms/step - loss: 0.0135 - mae: 8.7581e-04 - accuracy: 0.0000e+00 - val_loss: 0.0135 - val_mae: 8.7817e-04 - val_accuracy: 0.0000e+00\n",
            "Epoch 76/100\n",
            "15/15 [==============================] - 0s 5ms/step - loss: 0.0135 - mae: 8.7581e-04 - accuracy: 0.0000e+00 - val_loss: 0.0135 - val_mae: 8.7817e-04 - val_accuracy: 0.0000e+00\n",
            "Epoch 77/100\n",
            "15/15 [==============================] - 0s 6ms/step - loss: 0.0135 - mae: 8.7581e-04 - accuracy: 0.0000e+00 - val_loss: 0.0135 - val_mae: 8.7817e-04 - val_accuracy: 0.0000e+00\n",
            "Epoch 78/100\n",
            "15/15 [==============================] - 0s 6ms/step - loss: 0.0135 - mae: 8.7581e-04 - accuracy: 0.0000e+00 - val_loss: 0.0135 - val_mae: 8.7817e-04 - val_accuracy: 0.0000e+00\n",
            "Epoch 79/100\n",
            "15/15 [==============================] - 0s 6ms/step - loss: 0.0135 - mae: 8.7581e-04 - accuracy: 0.0000e+00 - val_loss: 0.0135 - val_mae: 8.7817e-04 - val_accuracy: 0.0000e+00\n",
            "Epoch 80/100\n",
            "15/15 [==============================] - 0s 4ms/step - loss: 0.0135 - mae: 8.7581e-04 - accuracy: 0.0000e+00 - val_loss: 0.0135 - val_mae: 8.7817e-04 - val_accuracy: 0.0000e+00\n",
            "Epoch 81/100\n",
            "15/15 [==============================] - 0s 5ms/step - loss: 0.0135 - mae: 8.7581e-04 - accuracy: 0.0000e+00 - val_loss: 0.0135 - val_mae: 8.7817e-04 - val_accuracy: 0.0000e+00\n",
            "Epoch 82/100\n",
            "15/15 [==============================] - 0s 6ms/step - loss: 0.0135 - mae: 8.7581e-04 - accuracy: 0.0000e+00 - val_loss: 0.0135 - val_mae: 8.7817e-04 - val_accuracy: 0.0000e+00\n",
            "Epoch 83/100\n",
            "15/15 [==============================] - 0s 5ms/step - loss: 0.0135 - mae: 8.7581e-04 - accuracy: 0.0000e+00 - val_loss: 0.0135 - val_mae: 8.7817e-04 - val_accuracy: 0.0000e+00\n",
            "Epoch 84/100\n",
            "15/15 [==============================] - 0s 5ms/step - loss: 0.0135 - mae: 8.7581e-04 - accuracy: 0.0000e+00 - val_loss: 0.0135 - val_mae: 8.7817e-04 - val_accuracy: 0.0000e+00\n",
            "Epoch 85/100\n",
            "15/15 [==============================] - 0s 5ms/step - loss: 0.0135 - mae: 8.7581e-04 - accuracy: 0.0000e+00 - val_loss: 0.0135 - val_mae: 8.7817e-04 - val_accuracy: 0.0000e+00\n",
            "Epoch 86/100\n",
            "15/15 [==============================] - 0s 5ms/step - loss: 0.0135 - mae: 8.7581e-04 - accuracy: 0.0000e+00 - val_loss: 0.0135 - val_mae: 8.7817e-04 - val_accuracy: 0.0000e+00\n",
            "Epoch 87/100\n",
            "15/15 [==============================] - 0s 4ms/step - loss: 0.0135 - mae: 8.7581e-04 - accuracy: 0.0000e+00 - val_loss: 0.0135 - val_mae: 8.7817e-04 - val_accuracy: 0.0000e+00\n",
            "Epoch 88/100\n",
            "15/15 [==============================] - 0s 4ms/step - loss: 0.0135 - mae: 8.7581e-04 - accuracy: 0.0000e+00 - val_loss: 0.0135 - val_mae: 8.7817e-04 - val_accuracy: 0.0000e+00\n",
            "Epoch 89/100\n",
            "15/15 [==============================] - 0s 4ms/step - loss: 0.0135 - mae: 8.7581e-04 - accuracy: 0.0000e+00 - val_loss: 0.0135 - val_mae: 8.7817e-04 - val_accuracy: 0.0000e+00\n",
            "Epoch 90/100\n",
            "15/15 [==============================] - 0s 5ms/step - loss: 0.0135 - mae: 8.7581e-04 - accuracy: 0.0000e+00 - val_loss: 0.0135 - val_mae: 8.7817e-04 - val_accuracy: 0.0000e+00\n",
            "Epoch 91/100\n",
            "15/15 [==============================] - 0s 9ms/step - loss: 0.0135 - mae: 8.7581e-04 - accuracy: 0.0000e+00 - val_loss: 0.0135 - val_mae: 8.7817e-04 - val_accuracy: 0.0000e+00\n",
            "Epoch 92/100\n",
            "15/15 [==============================] - 0s 4ms/step - loss: 0.0135 - mae: 8.7581e-04 - accuracy: 0.0000e+00 - val_loss: 0.0135 - val_mae: 8.7817e-04 - val_accuracy: 0.0000e+00\n",
            "Epoch 93/100\n",
            "15/15 [==============================] - 0s 4ms/step - loss: 0.0135 - mae: 8.7581e-04 - accuracy: 0.0000e+00 - val_loss: 0.0135 - val_mae: 8.7817e-04 - val_accuracy: 0.0000e+00\n",
            "Epoch 94/100\n",
            "15/15 [==============================] - 0s 5ms/step - loss: 0.0135 - mae: 8.7581e-04 - accuracy: 0.0000e+00 - val_loss: 0.0135 - val_mae: 8.7817e-04 - val_accuracy: 0.0000e+00\n",
            "Epoch 95/100\n",
            "15/15 [==============================] - 0s 5ms/step - loss: 0.0135 - mae: 8.7581e-04 - accuracy: 0.0000e+00 - val_loss: 0.0135 - val_mae: 8.7817e-04 - val_accuracy: 0.0000e+00\n",
            "Epoch 96/100\n",
            "15/15 [==============================] - 0s 6ms/step - loss: 0.0135 - mae: 8.7581e-04 - accuracy: 0.0000e+00 - val_loss: 0.0135 - val_mae: 8.7817e-04 - val_accuracy: 0.0000e+00\n",
            "Epoch 97/100\n",
            "15/15 [==============================] - 0s 4ms/step - loss: 0.0135 - mae: 8.7581e-04 - accuracy: 0.0000e+00 - val_loss: 0.0135 - val_mae: 8.7817e-04 - val_accuracy: 0.0000e+00\n",
            "Epoch 98/100\n",
            "15/15 [==============================] - 0s 5ms/step - loss: 0.0135 - mae: 8.7581e-04 - accuracy: 0.0000e+00 - val_loss: 0.0135 - val_mae: 8.7817e-04 - val_accuracy: 0.0000e+00\n",
            "Epoch 99/100\n",
            "15/15 [==============================] - 0s 5ms/step - loss: 0.0135 - mae: 8.7581e-04 - accuracy: 0.0000e+00 - val_loss: 0.0135 - val_mae: 8.7817e-04 - val_accuracy: 0.0000e+00\n",
            "Epoch 100/100\n",
            "15/15 [==============================] - 0s 5ms/step - loss: 0.0135 - mae: 8.7581e-04 - accuracy: 0.0000e+00 - val_loss: 0.0135 - val_mae: 8.7817e-04 - val_accuracy: 0.0000e+00\n"
          ]
        },
        {
          "output_type": "display_data",
          "data": {
            "text/plain": [
              "<Figure size 432x288 with 1 Axes>"
            ],
            "image/png": "[encoded data removed]"
          },
          "metadata": {
            "needs_background": "light"
          }
        }
      ]
    },
    {
      "cell_type": "code",
      "source": [
        "y_pred = model.predict(X_test)"
      ],
      "metadata": {
        "colab": {
          "base_uri": "https://localhost:8080/"
        },
        "id": "YHpvC9Iyu-0L",
        "outputId": "89f6418d-6b40-439d-f726-f54e1a3b920e"
      },
      "execution_count": null,
      "outputs": [
        {
          "output_type": "stream",
          "name": "stdout",
          "text": [
            "9/9 [==============================] - 0s 2ms/step\n"
          ]
        }
      ]
    },
    {
      "cell_type": "code",
      "source": [
        "print('Средняя абсолютная ошибка', mean_absolute_error(y_test, y_pred))\n",
        "print('Средняя абсолютная процентная ошибка', mean_absolute_percentage_error(y_test, y_pred)*100)\n",
        "print('Средняя квадратичная ошибка', mean_squared_error(y_test, y_pred))"
      ],
      "metadata": {
        "colab": {
          "base_uri": "https://localhost:8080/"
        },
        "id": "jGelMs98xCYI",
        "outputId": "07264788-4069-4be7-fa3a-c9313e3b705b"
      },
      "execution_count": null,
      "outputs": [
        {
          "output_type": "stream",
          "name": "stdout",
          "text": [
            "Средняя абсолютная ошибка 0.0009096316505425524\n",
            "Средняя абсолютная процентная ошибка 100.0\n",
            "Средняя квадратичная ошибка 9.166040570871887e-07\n"
          ]
        }
      ]
    },
    {
      "cell_type": "code",
      "source": [
        "model1 = Sequential()\n",
        "#входной полносвязный слой\n",
        "model1.add(Dense(128, input_dim = 12, activation='relu'))\n",
        "#этот метод позволет избежать переобучения\n",
        "model1.add(Dropout(0.2))\n",
        "model1.add(Dense(128, activation='relu'))\n",
        "model1.add(Dense(64, activation='relu'))\n",
        "model1.add(Dropout(0.2))\n",
        "model1.add(Dense(64, activation='relu'))\n",
        "model1.add(Dense(32, activation='relu'))\n",
        "model1.add(Dropout(0.2))\n",
        "model1.add(Dense(16, activation='relu'))\n",
        "model1.add(Dense(1, activation='relu'))\n",
        "#компилируем модель\n",
        "model1.compile(loss = 'mean_squared_error', optimizer = 'adam', metrics=['accuracy'])\n",
        "#Вывод структуры нейронки\n",
        "print(model1.summary())"
      ],
      "metadata": {
        "id": "Iu5Ji6HcqTFK"
      },
      "execution_count": null,
      "outputs": []
    },
    {
      "cell_type": "code",
      "source": [
        "history = model1.fit(X_train,\n",
        "                    y_train,\n",
        "                    epochs=100,\n",
        "                    validation_split = 0.3,\n",
        "                    verbose = 1)\n",
        "plt.plot(history.history['loss'],\n",
        "         label = 'Точность train')\n",
        "plt.plot(history.history['val_loss'],\n",
        "         label = 'Точность test')\n",
        "plt.xlabel('эпоха')\n",
        "plt.ylabel('точность')\n",
        "plt.legend()\n",
        "plt.show()"
      ],
      "metadata": {
        "id": "VgUMMOtDqd1W"
      },
      "execution_count": null,
      "outputs": []
    },
    {
      "cell_type": "code",
      "source": [
        "y_pred1 = model1.predict(X_test)"
      ],
      "metadata": {
        "id": "iQVy91YyviA2"
      },
      "execution_count": null,
      "outputs": []
    },
    {
      "cell_type": "code",
      "source": [
        "#результаты\n",
        "print('Средняя абсолютная ошибка', mean_absolute_error(y_test, y_pred1))\n",
        "print('Средняя абсолютная процентная ошибка', mean_absolute_percentage_error(y_test, y_pred1)*100)\n",
        "print('Средняя квадратичная ошибка', mean_squared_error(y_test, y_pred1))"
      ],
      "metadata": {
        "id": "cOHof1DowLli"
      },
      "execution_count": null,
      "outputs": []
    },
    {
      "cell_type": "code",
      "source": [
        "with open ('model.pkl', 'wb') as f:\n",
        "  pickle.dump(model, f)"
      ],
      "metadata": {
        "id": "xnFPYRvW0wow"
      },
      "execution_count": null,
      "outputs": []
    },
    {
      "cell_type": "code",
      "source": [
        "with open ('model1.pkl', 'wb') as f:\n",
        "  pickle.dump(model1, f)"
      ],
      "metadata": {
        "id": "APVeDZHf1eDD"
      },
      "execution_count": null,
      "outputs": []
    }
  ],
  "metadata": {
    "colab": {
      "collapsed_sections": [],
      "provenance": []
    },
    "kernelspec": {
      "display_name": "Python 3",
      "name": "python3"
    },
    "language_info": {
      "name": "python"
    }
  },
  "nbformat": 4,
  "nbformat_minor": 0
}