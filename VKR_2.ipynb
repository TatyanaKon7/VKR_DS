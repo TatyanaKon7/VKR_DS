{
  "nbformat": 4,
  "nbformat_minor": 0,
  "metadata": {
    "colab": {
      "provenance": [],
      "collapsed_sections": []
    },
    "kernelspec": {
      "name": "python3",
      "display_name": "Python 3"
    },
    "language_info": {
      "name": "python"
    }
  },
  "cells": [
    {
      "cell_type": "markdown",
      "source": [
        "**Импортируем библиотеки**"
      ],
      "metadata": {
        "id": "-i184aj3ioCT"
      }
    },
    {
      "cell_type": "code",
      "execution_count": null,
      "metadata": {
        "id": "3AMzmxxqil0M"
      },
      "outputs": [],
      "source": [
        "#импортируем библиотеки\n",
        "import numpy as np\n",
        "import pandas as pd\n",
        "import matplotlib.pyplot as plt\n",
        "%matplotlib inline\n",
        "import seaborn as sns\n",
        "import plotly.express as px\n",
        "import sklearn\n",
        "from sklearn import preprocessing\n",
        "from sklearn.preprocessing import Normalizer, LabelEncoder, MinMaxScaler, StandardScaler"
      ]
    },
    {
      "cell_type": "code",
      "source": [
        "#подгружаем первый файл и смотрим размеpность\n",
        "dataset = pd.read_excel(r'/content/dataset.xlsx')\n",
        "dataset.shape"
      ],
      "metadata": {
        "id": "3ucsr0OljAoi"
      },
      "execution_count": null,
      "outputs": []
    },
    {
      "cell_type": "markdown",
      "source": [
        "**Проведем предобработку данных**"
      ],
      "metadata": {
        "id": "lvic3aq3kuRY"
      }
    },
    {
      "cell_type": "code",
      "source": [
        "dataset = dataset.replace({'Угол нашивки, град': {0.0 : 0, 90.0 : 1}})\n",
        "dataset = dataset.rename(columns={'Угол нашивки, град' : 'Угол нашивки'})\n",
        "dataset['Угол нашивки'] = dataset['Угол нашивки'].astype(int)\n",
        "dataset"
      ],
      "metadata": {
        "id": "Vm1ThqOukMXn"
      },
      "execution_count": null,
      "outputs": []
    },
    {
      "cell_type": "code",
      "source": [
        "#создадим новый файл\n",
        "dataset.to_excel('dataset1.xlsx', index = False)\n",
        "print('Файл успешно сохранился!')"
      ],
      "metadata": {
        "id": "ktNFmUpyAl4_"
      },
      "execution_count": null,
      "outputs": []
    },
    {
      "cell_type": "code",
      "source": [
        "#среднее значение\n",
        "dataset.mean()"
      ],
      "metadata": {
        "id": "xb9DFi4PkSNo"
      },
      "execution_count": null,
      "outputs": []
    },
    {
      "cell_type": "code",
      "source": [
        "#медианное значение\n",
        "dataset.median()"
      ],
      "metadata": {
        "id": "dTittmnJkVDx"
      },
      "execution_count": null,
      "outputs": []
    },
    {
      "cell_type": "markdown",
      "source": [
        "**Удаление выбросов**"
      ],
      "metadata": {
        "id": "fLjh9wh-lGw5"
      }
    },
    {
      "cell_type": "code",
      "source": [
        "dataset.isna().sum()"
      ],
      "metadata": {
        "id": "_-Fbo5jelMby"
      },
      "execution_count": null,
      "outputs": []
    },
    {
      "cell_type": "code",
      "source": [
        "dataset.describe()"
      ],
      "metadata": {
        "id": "aTDDj-MsnrNA"
      },
      "execution_count": null,
      "outputs": []
    },
    {
      "cell_type": "markdown",
      "source": [
        "**Удаляем выбросы**"
      ],
      "metadata": {
        "id": "y6ZziHi5qRGR"
      }
    },
    {
      "cell_type": "code",
      "source": [
        "#для удаления выбросов используем метод межквартильных расстояний\n",
        "metod_iq = 0\n",
        "count_iq = [] #список, куда записывается количество выбросов по каждой переменной\n",
        "for column in dataset:\n",
        "    d = dataset.loc[:, [column]]\n",
        "    q1 = np.quantile(dataset[column], 0.25)\n",
        "    q3 = np.quantile(dataset[column], 0.75)\n",
        "    iqr = q3 - q1\n",
        "    lower = q1 - 1.5 * iqr\n",
        "    upper = q3 + 1.5 * iqr\n",
        "    d['iq'] = (dataset[column] <= lower) | (dataset[column] >= upper)\n",
        "    metod_iq += d['iq'].sum()\n",
        "    count_iq.append(d['iq'].sum())\n",
        "    print(column, ': ', d['iq'].sum())\n",
        "print('Метод межквартильных расстояний, выбросов:', metod_iq)"
      ],
      "metadata": {
        "id": "ChLf9NUYqVta"
      },
      "execution_count": null,
      "outputs": []
    },
    {
      "cell_type": "code",
      "source": [
        "#cоздадим переменную со списком всех параметров, в которых есть выбросы за исклюением целевых переменных\n",
        "dataset.columns\n",
        "column_list_drop = ['Плотность, кг/м3',\n",
        "                    'Модуль упругости, ГПа',\n",
        "                    'Количество отвердителя, м.%',\n",
        "                    'Содержание эпоксидных групп,%_2',\n",
        "                    'Температура вспышки, С_2',\n",
        "                    'Поверхностная плотность, г/м2',\n",
        "                    'Потребление смолы, г/м2',\n",
        "                    'Шаг нашивки',\n",
        "                    'Плотность нашивки']"
      ],
      "metadata": {
        "id": "nfAckpzKrohF"
      },
      "execution_count": null,
      "outputs": []
    },
    {
      "cell_type": "code",
      "source": [
        "#исключим выбросы, очистим данные от выбросов методом межквартильного расстояния (далее 1,5 межквартильных размахов)\n",
        "for i in column_list_drop:\n",
        "    q3, q1 = np.percentile(dataset.loc[:,i], [75,25])\n",
        "    iqr = q3 - q1\n",
        "    max = q3 + (1.5 * iqr)\n",
        "    min = q1 - (1.5 * iqr)\n",
        "    dataset.loc[dataset[i] < min, i] = np.nan\n",
        "    dataset.loc[dataset[i] > max, i] = np.nan"
      ],
      "metadata": {
        "id": "t_cWa1BNru7b"
      },
      "execution_count": null,
      "outputs": []
    },
    {
      "cell_type": "code",
      "source": [
        "dataset.isnull().sum()"
      ],
      "metadata": {
        "id": "KikIC3ghslkv"
      },
      "execution_count": null,
      "outputs": []
    },
    {
      "cell_type": "code",
      "source": [
        "dataset = dataset.dropna(axis=0)"
      ],
      "metadata": {
        "id": "uXgwOmWAs3qS"
      },
      "execution_count": null,
      "outputs": []
    },
    {
      "cell_type": "code",
      "source": [
        "dataset.isnull().sum()"
      ],
      "metadata": {
        "id": "cK3BohLJs_I5"
      },
      "execution_count": null,
      "outputs": []
    },
    {
      "cell_type": "code",
      "source": [
        "dataset.info()"
      ],
      "metadata": {
        "id": "9A8AB1F8tFmI"
      },
      "execution_count": null,
      "outputs": []
    },
    {
      "cell_type": "code",
      "source": [
        "for i in column_list_drop:\n",
        "    q3, q1 = np.percentile(dataset.loc[:,i], [75,25])\n",
        "    iqr = q3 - q1\n",
        "    max = q3 + (1.5 * iqr)\n",
        "    min = q1 - (1.5 * iqr)\n",
        "    dataset.loc[dataset[i] < min, i] = np.nan\n",
        "    dataset.loc[dataset[i] > max, i] = np.nan"
      ],
      "metadata": {
        "id": "xqPkkF1euFjX"
      },
      "execution_count": null,
      "outputs": []
    },
    {
      "cell_type": "code",
      "source": [
        "dataset.isnull().sum()"
      ],
      "metadata": {
        "id": "iUe8t538uNlD"
      },
      "execution_count": null,
      "outputs": []
    },
    {
      "cell_type": "code",
      "source": [
        "dataset = dataset.dropna(axis=0)"
      ],
      "metadata": {
        "id": "ThBMlU83uVrV"
      },
      "execution_count": null,
      "outputs": []
    },
    {
      "cell_type": "code",
      "source": [
        "dataset.isnull().sum()"
      ],
      "metadata": {
        "id": "6gm6W2CFuaPK"
      },
      "execution_count": null,
      "outputs": []
    },
    {
      "cell_type": "code",
      "source": [
        "for i in column_list_drop:\n",
        "    q3, q1 = np.percentile(dataset.loc[:,i], [75,25])\n",
        "    iqr = q3 - q1\n",
        "    max = q3 + (1.5 * iqr)\n",
        "    min = q1 - (1.5 * iqr)\n",
        "    dataset.loc[dataset[i] < min, i] = np.nan\n",
        "    dataset.loc[dataset[i] > max, i] = np.nan"
      ],
      "metadata": {
        "id": "ejLw6uWcupz8"
      },
      "execution_count": null,
      "outputs": []
    },
    {
      "cell_type": "code",
      "source": [
        "dataset.isnull().sum()"
      ],
      "metadata": {
        "id": "L4N2hW4nuvz0"
      },
      "execution_count": null,
      "outputs": []
    },
    {
      "cell_type": "code",
      "source": [
        "dataset = dataset.dropna(axis=0)"
      ],
      "metadata": {
        "id": "c5fzXx6au0zi"
      },
      "execution_count": null,
      "outputs": []
    },
    {
      "cell_type": "code",
      "source": [
        "dataset.isnull().sum()"
      ],
      "metadata": {
        "id": "VsBCssIwu249"
      },
      "execution_count": null,
      "outputs": []
    },
    {
      "cell_type": "code",
      "source": [
        "for i in column_list_drop:\n",
        "    q3, q1 = np.percentile(dataset.loc[:,i], [75,25])\n",
        "    iqr = q3 - q1\n",
        "    max = q3 + (1.5 * iqr)\n",
        "    min = q1 - (1.5 * iqr)\n",
        "    dataset.loc[dataset[i] < min, i] = np.nan\n",
        "    dataset.loc[dataset[i] > max, i] = np.nan"
      ],
      "metadata": {
        "id": "0LiPH8ylvHJ7"
      },
      "execution_count": null,
      "outputs": []
    },
    {
      "cell_type": "code",
      "source": [
        "dataset.isnull().sum()"
      ],
      "metadata": {
        "id": "We3_WnXOvMqM"
      },
      "execution_count": null,
      "outputs": []
    },
    {
      "cell_type": "code",
      "source": [
        "dataset.info()"
      ],
      "metadata": {
        "id": "V0VHubB_vU3J"
      },
      "execution_count": null,
      "outputs": []
    },
    {
      "cell_type": "markdown",
      "source": [
        "Выбросы удалили за 3 подхода"
      ],
      "metadata": {
        "id": "W27AH5kzf64R"
      }
    },
    {
      "cell_type": "markdown",
      "source": [
        "**Мы избавились от шумов, выбросов, строим графики**"
      ],
      "metadata": {
        "id": "5UnVuyX_IBZa"
      }
    },
    {
      "cell_type": "code",
      "source": [
        "#построим гистограммы распределения каждой из переменных\n",
        "dataset.hist(figsize = (20,20), color = 'b')\n",
        "plt.show()"
      ],
      "metadata": {
        "id": "Q5VjVWS4v5cH"
      },
      "execution_count": null,
      "outputs": []
    },
    {
      "cell_type": "code",
      "source": [
        "#попарные графики рассеяния точек\n",
        "sns.set_style('darkgrid')\n",
        "sns.pairplot(dataset,\n",
        "            x_vars=['Соотношение матрица-наполнитель', 'Плотность, кг/м3',\n",
        "                    'Модуль упругости, ГПа', 'Количество отвердителя, м.%',\n",
        "                    'Содержание эпоксидных групп,%_2', 'Температура вспышки, С_2'],\n",
        "             y_vars=['Модуль упругости при растяжении, ГПа'],\n",
        "             palette='bright')"
      ],
      "metadata": {
        "id": "x2hIYhxVv_I7"
      },
      "execution_count": null,
      "outputs": []
    },
    {
      "cell_type": "code",
      "source": [
        "#попарные графики рассеяния точек\n",
        "sns.set_style('darkgrid')\n",
        "sns.pairplot(dataset,\n",
        "            x_vars=['Поверхностная плотность, г/м2', 'Прочность при растяжении, МПа',\n",
        "                    'Потребление смолы, г/м2', 'Угол нашивки',\n",
        "                    'Шаг нашивки', 'Плотность нашивки'],\n",
        "             y_vars=['Модуль упругости при растяжении, ГПа'],\n",
        "             palette='bright')"
      ],
      "metadata": {
        "id": "Jf_Z1WtbgSEj"
      },
      "execution_count": null,
      "outputs": []
    },
    {
      "cell_type": "code",
      "source": [
        "#попарные графики рассеяния точек\n",
        "sns.set_style('darkgrid')\n",
        "sns.pairplot(dataset,\n",
        "            x_vars=['Соотношение матрица-наполнитель', 'Плотность, кг/м3',\n",
        "                    'Модуль упругости, ГПа', 'Количество отвердителя, м.%',\n",
        "                    'Содержание эпоксидных групп,%_2', 'Температура вспышки, С_2'],\n",
        "             y_vars=['Прочность при растяжении, МПа'],\n",
        "             palette='bright')"
      ],
      "metadata": {
        "id": "d_RT4GqtWiaf"
      },
      "execution_count": null,
      "outputs": []
    },
    {
      "cell_type": "code",
      "source": [
        "#попарные графики рассеяния точек\n",
        "sns.set_style('darkgrid')\n",
        "sns.pairplot(dataset,\n",
        "            x_vars=['Поверхностная плотность, г/м2', 'Модуль упругости при растяжении, ГПа',\n",
        "                    'Потребление смолы, г/м2', 'Угол нашивки',\n",
        "                    'Шаг нашивки', 'Плотность нашивки'],\n",
        "             y_vars=['Прочность при растяжении, МПа'],\n",
        "             palette='bright')"
      ],
      "metadata": {
        "id": "_Uc0y2SEW_VF"
      },
      "execution_count": null,
      "outputs": []
    },
    {
      "cell_type": "code",
      "source": [
        "#изменение формы матрицы на треугольную\n",
        "matrix = np.triu(dataset.corr())\n",
        "#создание полотна для тепловой карты\n",
        "x = plt.subplots(figsize = (11, 11))\n",
        "#строим тепловую кату\n",
        "sns.heatmap(dataset.corr(), annot = True, cmap= 'coolwarm', mask=matrix)"
      ],
      "metadata": {
        "id": "tzVbnOonwZxA"
      },
      "execution_count": null,
      "outputs": []
    },
    {
      "cell_type": "code",
      "source": [
        "fig, ax = plt.subplots(figsize = (12, 6))\n",
        "dataset.plot(kind = 'kde', ax = ax)\n",
        "#убеждаемся, что данные находятся в разных диапазонах - нужна нормализаия"
      ],
      "metadata": {
        "id": "np4I8iy0YX28"
      },
      "execution_count": null,
      "outputs": []
    },
    {
      "cell_type": "markdown",
      "source": [
        "**Нормализуем данные**"
      ],
      "metadata": {
        "id": "_Tvsjav3IhcK"
      }
    },
    {
      "cell_type": "code",
      "source": [
        "#нормализуем данные с помощью MinMaxScaler() \n",
        "minmax_scaler = MinMaxScaler()\n",
        "dataset_norm = pd.DataFrame(minmax_scaler.fit_transform(np.array(dataset)), columns = dataset.columns)\n",
        "dataset_norm.describe()"
      ],
      "metadata": {
        "id": "Mbu-a82vxKSR"
      },
      "execution_count": null,
      "outputs": []
    },
    {
      "cell_type": "code",
      "source": [
        "dataset_norm"
      ],
      "metadata": {
        "id": "cOvWmHILemNI"
      },
      "execution_count": null,
      "outputs": []
    },
    {
      "cell_type": "code",
      "source": [
        "plt.figure(figsize = (35,10))\n",
        "ax = sns.boxplot(data = dataset_norm)\n",
        "ax.set_xticklabels(ax.get_xticklabels(),rotation=30)"
      ],
      "metadata": {
        "id": "armn_t2Bx1bd"
      },
      "execution_count": null,
      "outputs": []
    },
    {
      "cell_type": "code",
      "source": [
        "#построим гистограммы распределения каждой из переменных\n",
        "dataset_norm.hist(figsize = (20,20), color = 'b')\n",
        "plt.show()"
      ],
      "metadata": {
        "id": "AMpVCJOlO5EE"
      },
      "execution_count": null,
      "outputs": []
    },
    {
      "cell_type": "code",
      "source": [
        "fig, ax = plt.subplots(figsize = (20, 8))\n",
        "dataset_norm.plot(kind = 'kde', ax = ax)"
      ],
      "metadata": {
        "id": "wP1aoEhJx_YE"
      },
      "execution_count": null,
      "outputs": []
    },
    {
      "cell_type": "code",
      "source": [
        "#попарные графики рассеяния точек\n",
        "sns.set_style('darkgrid')\n",
        "sns.pairplot(dataset_norm,\n",
        "            x_vars=['Соотношение матрица-наполнитель', 'Плотность, кг/м3',\n",
        "                    'Модуль упругости, ГПа', 'Количество отвердителя, м.%',\n",
        "                    'Содержание эпоксидных групп,%_2', 'Температура вспышки, С_2'],\n",
        "             y_vars=['Модуль упругости при растяжении, ГПа'],\n",
        "             palette='bright')"
      ],
      "metadata": {
        "id": "cVgB46KIyPai"
      },
      "execution_count": null,
      "outputs": []
    },
    {
      "cell_type": "code",
      "source": [
        "#попарные графики рассеяния точек\n",
        "sns.set_style('darkgrid')\n",
        "sns.pairplot(dataset_norm,\n",
        "            x_vars=['Поверхностная плотность, г/м2', 'Прочность при растяжении, МПа',\n",
        "                    'Потребление смолы, г/м2', 'Угол нашивки',\n",
        "                    'Шаг нашивки', 'Плотность нашивки'],\n",
        "             y_vars=['Модуль упругости при растяжении, ГПа'],\n",
        "             palette='bright')"
      ],
      "metadata": {
        "id": "laMNxmfhqi94"
      },
      "execution_count": null,
      "outputs": []
    },
    {
      "cell_type": "code",
      "source": [
        "#попарные графики рассеяния точек\n",
        "sns.set_style('darkgrid')\n",
        "sns.pairplot(dataset_norm,\n",
        "            x_vars=['Соотношение матрица-наполнитель', 'Плотность, кг/м3',\n",
        "                    'Модуль упругости, ГПа', 'Количество отвердителя, м.%',\n",
        "                    'Содержание эпоксидных групп,%_2', 'Температура вспышки, С_2'],\n",
        "             y_vars=['Прочность при растяжении, МПа'],\n",
        "             palette='bright')"
      ],
      "metadata": {
        "id": "u7QxjQ3XX9kM"
      },
      "execution_count": null,
      "outputs": []
    },
    {
      "cell_type": "code",
      "source": [
        "#попарные графики рассеяния точек\n",
        "sns.set_style('darkgrid')\n",
        "sns.pairplot(dataset_norm,\n",
        "            x_vars=['Поверхностная плотность, г/м2', 'Модуль упругости при растяжении, ГПа',\n",
        "                    'Потребление смолы, г/м2', 'Угол нашивки',\n",
        "                    'Шаг нашивки', 'Плотность нашивки'],\n",
        "             y_vars=['Прочность при растяжении, МПа'],\n",
        "             palette='bright')"
      ],
      "metadata": {
        "id": "9eWd9feEYDd-"
      },
      "execution_count": null,
      "outputs": []
    },
    {
      "cell_type": "code",
      "source": [
        "dataset_norm.corr()"
      ],
      "metadata": {
        "id": "4mIhHY37ewGh"
      },
      "execution_count": null,
      "outputs": []
    },
    {
      "cell_type": "code",
      "source": [
        "#изменение формы матрицы на треугольную\n",
        "matrix = np.triu(dataset_norm.corr())\n",
        "#создание полотна для тепловой карты\n",
        "x = plt.subplots(figsize = (11, 11))\n",
        "#строим тепловую кату\n",
        "sns.heatmap(dataset_norm.corr(), annot = True, cmap= 'coolwarm', mask=matrix)"
      ],
      "metadata": {
        "id": "SatoFjWhyfb9"
      },
      "execution_count": null,
      "outputs": []
    },
    {
      "cell_type": "code",
      "source": [
        "normalizer = Normalizer()\n",
        "dataset_norm_n = pd.DataFrame(normalizer.fit_transform(np.array(dataset)), columns = dataset.columns)\n",
        "dataset_norm_n"
      ],
      "metadata": {
        "id": "-mxa4OM_gVva"
      },
      "execution_count": null,
      "outputs": []
    },
    {
      "cell_type": "code",
      "source": [
        "dataset_norm_n.describe()"
      ],
      "metadata": {
        "id": "Dr8YPRazi5Ir"
      },
      "execution_count": null,
      "outputs": []
    },
    {
      "cell_type": "code",
      "source": [
        "dataset_norm_n.corr()"
      ],
      "metadata": {
        "id": "ZrDpqyzbglbn"
      },
      "execution_count": null,
      "outputs": []
    },
    {
      "cell_type": "code",
      "source": [
        "#попарные графики рассеяния точек\n",
        "sns.set_style('darkgrid')\n",
        "sns.pairplot(dataset_norm_n,\n",
        "            x_vars=['Соотношение матрица-наполнитель', 'Плотность, кг/м3',\n",
        "                    'Модуль упругости, ГПа', 'Количество отвердителя, м.%',\n",
        "                    'Содержание эпоксидных групп,%_2', 'Температура вспышки, С_2'],\n",
        "             y_vars=['Модуль упругости при растяжении, ГПа'],\n",
        "             kind='scatter', palette='bright')"
      ],
      "metadata": {
        "id": "6_TdgmHIrEMs"
      },
      "execution_count": null,
      "outputs": []
    },
    {
      "cell_type": "code",
      "source": [
        "#попарные графики рассеяния точек\n",
        "sns.set_style('darkgrid')\n",
        "sns.pairplot(dataset_norm_n,\n",
        "            x_vars=['Поверхностная плотность, г/м2', 'Прочность при растяжении, МПа',\n",
        "                    'Потребление смолы, г/м2', 'Угол нашивки',\n",
        "                    'Шаг нашивки', 'Плотность нашивки'],\n",
        "             y_vars=['Модуль упругости при растяжении, ГПа'],\n",
        "             kind='scatter', palette='bright')"
      ],
      "metadata": {
        "id": "YASVMRepqrdk"
      },
      "execution_count": null,
      "outputs": []
    },
    {
      "cell_type": "code",
      "source": [
        "#попарные графики рассеяния точек\n",
        "sns.set_style('darkgrid')\n",
        "sns.pairplot(dataset_norm_n,\n",
        "            x_vars=['Соотношение матрица-наполнитель', 'Плотность, кг/м3',\n",
        "                    'Модуль упругости, ГПа', 'Количество отвердителя, м.%',\n",
        "                    'Содержание эпоксидных групп,%_2', 'Температура вспышки, С_2'],\n",
        "             y_vars=['Прочность при растяжении, МПа'],\n",
        "             kind='scatter', palette='bright')"
      ],
      "metadata": {
        "id": "d0ZqUHvMYeGN"
      },
      "execution_count": null,
      "outputs": []
    },
    {
      "cell_type": "code",
      "source": [
        "#попарные графики рассеяния точек\n",
        "sns.set_style('darkgrid')\n",
        "sns.pairplot(dataset_norm_n,\n",
        "            x_vars=['Поверхностная плотность, г/м2', 'Модуль упругости при растяжении, ГПа',\n",
        "                    'Потребление смолы, г/м2', 'Угол нашивки',\n",
        "                    'Шаг нашивки', 'Плотность нашивки'],\n",
        "             y_vars=['Прочность при растяжении, МПа'],\n",
        "             kind='scatter', palette='bright')"
      ],
      "metadata": {
        "id": "XAbhDsiNYkJL"
      },
      "execution_count": null,
      "outputs": []
    },
    {
      "cell_type": "code",
      "source": [
        "#изменение формы матрицы на треугольную\n",
        "matrix = np.triu(dataset_norm_n.corr())\n",
        "#создание полотна для тепловой карты\n",
        "x = plt.subplots(figsize = (11, 11))\n",
        "#строим тепловую кату\n",
        "sns.heatmap(dataset_norm_n.corr(), annot = True, cmap= 'coolwarm', mask=matrix)"
      ],
      "metadata": {
        "id": "AecbL_apgrNt"
      },
      "execution_count": null,
      "outputs": []
    },
    {
      "cell_type": "markdown",
      "source": [
        "**Стандартизуем данные**"
      ],
      "metadata": {
        "id": "uv6Buaa4JWFZ"
      }
    },
    {
      "cell_type": "code",
      "source": [
        "std_scaler = StandardScaler()\n",
        "dataset_std = pd.DataFrame(std_scaler.fit_transform(np.array(dataset)), columns = dataset.columns)\n",
        "dataset_std.describe()"
      ],
      "metadata": {
        "id": "xvOZicxnJZNh"
      },
      "execution_count": null,
      "outputs": []
    },
    {
      "cell_type": "code",
      "source": [
        "dataset_std"
      ],
      "metadata": {
        "id": "NHmVM6TdeanI"
      },
      "execution_count": null,
      "outputs": []
    },
    {
      "cell_type": "code",
      "source": [
        "plt.figure(figsize = (16,10))\n",
        "ax = sns.boxplot(data = dataset_std)\n",
        "ax.set_xticklabels(ax.get_xticklabels(),rotation=30)"
      ],
      "metadata": {
        "id": "IDs8qBu9NKM4"
      },
      "execution_count": null,
      "outputs": []
    },
    {
      "cell_type": "code",
      "source": [
        "fig, ax = plt.subplots(figsize = (20, 8))\n",
        "dataset_std.plot(kind = 'kde', ax = ax)"
      ],
      "metadata": {
        "id": "X4JkpBe9NWgR"
      },
      "execution_count": null,
      "outputs": []
    },
    {
      "cell_type": "code",
      "source": [
        "#попарные графики рассеяния точек\n",
        "sns.set_style('darkgrid')\n",
        "sns.pairplot(dataset_std,\n",
        "            x_vars=['Соотношение матрица-наполнитель', 'Плотность, кг/м3',\n",
        "                    'Модуль упругости, ГПа', 'Количество отвердителя, м.%',\n",
        "                    'Содержание эпоксидных групп,%_2', 'Температура вспышки, С_2'],\n",
        "             y_vars=['Модуль упругости при растяжении, ГПа'],\n",
        "             palette='bright')"
      ],
      "metadata": {
        "id": "9Pqcdz5eNbsx"
      },
      "execution_count": null,
      "outputs": []
    },
    {
      "cell_type": "code",
      "source": [
        "#попарные графики рассеяния точек\n",
        "sns.set_style('darkgrid')\n",
        "sns.pairplot(dataset_std,\n",
        "            x_vars=['Поверхностная плотность, г/м2', 'Прочность при растяжении, МПа',\n",
        "                    'Потребление смолы, г/м2', 'Угол нашивки',\n",
        "                    'Шаг нашивки', 'Плотность нашивки'],\n",
        "             y_vars=['Модуль упругости при растяжении, ГПа'],\n",
        "             palette='bright')"
      ],
      "metadata": {
        "id": "QUh5sGSTtOCj"
      },
      "execution_count": null,
      "outputs": []
    },
    {
      "cell_type": "code",
      "source": [
        "#попарные графики рассеяния точек\n",
        "sns.set_style('darkgrid')\n",
        "sns.pairplot(dataset_std,\n",
        "            x_vars=['Соотношение матрица-наполнитель', 'Плотность, кг/м3',\n",
        "                    'Модуль упругости, ГПа', 'Количество отвердителя, м.%',\n",
        "                    'Содержание эпоксидных групп,%_2', 'Температура вспышки, С_2'],\n",
        "             y_vars=['Прочность при растяжении, МПа'],\n",
        "             palette='bright')"
      ],
      "metadata": {
        "id": "BWA09zdRZA3u"
      },
      "execution_count": null,
      "outputs": []
    },
    {
      "cell_type": "code",
      "source": [
        "#попарные графики рассеяния точек\n",
        "sns.set_style('darkgrid')\n",
        "sns.pairplot(dataset_std,\n",
        "            x_vars=['Поверхностная плотность, г/м2', 'Модуль упругости при растяжении, ГПа',\n",
        "                    'Потребление смолы, г/м2', 'Угол нашивки',\n",
        "                    'Шаг нашивки', 'Плотность нашивки'],\n",
        "             y_vars=['Прочность при растяжении, МПа'],\n",
        "             palette='bright')"
      ],
      "metadata": {
        "id": "R-LnvzvOZIxm"
      },
      "execution_count": null,
      "outputs": []
    },
    {
      "cell_type": "code",
      "source": [
        "dataset_std.corr()"
      ],
      "metadata": {
        "id": "rfp8HEcpfUuy"
      },
      "execution_count": null,
      "outputs": []
    },
    {
      "cell_type": "code",
      "source": [
        "#изменение формы матрицы на треугольную\n",
        "matrix = np.triu(dataset_std.corr())\n",
        "#создание полотна для тепловой карты\n",
        "x = plt.subplots(figsize = (11, 11))\n",
        "#строим тепловую кату\n",
        "sns.heatmap(dataset_std.corr(), annot = True, cmap= 'coolwarm', mask=matrix)"
      ],
      "metadata": {
        "id": "Qzhdfr4vNtII"
      },
      "execution_count": null,
      "outputs": []
    },
    {
      "cell_type": "code",
      "source": [
        "#создадим новый файл\n",
        "dataset_norm_n.to_excel('dataset2.xlsx', index = False)\n",
        "print('Файл успешно сохранился!')"
      ],
      "metadata": {
        "id": "MwfORr5BC9lC"
      },
      "execution_count": null,
      "outputs": []
    },
    {
      "cell_type": "markdown",
      "source": [
        "**Создадим и обучим модели**"
      ],
      "metadata": {
        "id": "-fy3qCvKktAo"
      }
    },
    {
      "cell_type": "code",
      "source": [
        "#импорт\n",
        "from sklearn import linear_model\n",
        "from sklearn.ensemble import RandomForestRegressor, GradientBoostingRegressor\n",
        "from sklearn.linear_model import LinearRegression, LogisticRegression, SGDRegressor\n",
        "from sklearn.metrics import mean_squared_error, r2_score, mean_absolute_percentage_error, mean_absolute_error, accuracy_score, precision_score\n",
        "from sklearn.metrics import mean_absolute_error, accuracy_score, precision_score\n",
        "from sklearn.model_selection import train_test_split, GridSearchCV, KFold, cross_val_score\n",
        "from sklearn.neighbors import KNeighborsRegressor\n",
        "from sklearn.neural_network import MLPRegressor\n",
        "from sklearn.pipeline import make_pipeline, Pipeline\n",
        "from sklearn import preprocessing\n",
        "from sklearn.preprocessing import Normalizer, LabelEncoder, MinMaxScaler, StandardScaler\n",
        "from sklearn.svm import SVR\n",
        "from sklearn.tree import DecisionTreeRegressor\n",
        "\n",
        "from tensorflow import keras as keras\n",
        "from tensorflow.keras import layers\n",
        "from tensorflow.keras.layers import Dense, Flatten, Dropout, BatchNormalization, Activation\n",
        "from pandas import read_excel, DataFrame, Series\n",
        "from keras.wrappers.scikit_learn import KerasClassifier, KerasRegressor\n",
        "from tensorflow.keras.models import Sequential\n",
        "from numpy.random import seed\n",
        "from scipy import stats\n",
        "import warnings\n",
        "warnings.filterwarnings(\"ignore\")"
      ],
      "metadata": {
        "id": "5KjuW2VUksdN"
      },
      "execution_count": null,
      "outputs": []
    },
    {
      "cell_type": "markdown",
      "source": [
        "**Модели для переменной \"Модуль упругости при растяжении\" (upr)**"
      ],
      "metadata": {
        "id": "QlcvezDF9IEl"
      }
    },
    {
      "cell_type": "code",
      "source": [
        "dataset_upr = dataset_norm_n\n",
        "dataset_upr"
      ],
      "metadata": {
        "id": "4mPTrDgODYvV"
      },
      "execution_count": null,
      "outputs": []
    },
    {
      "cell_type": "code",
      "source": [
        "dataset_upr.drop(dataset_upr.columns[8], axis = 1, inplace=True)\n",
        "dataset_upr"
      ],
      "metadata": {
        "id": "S0LxAwA2vfLd"
      },
      "execution_count": null,
      "outputs": []
    },
    {
      "cell_type": "code",
      "source": [
        "dataset_upr.info()"
      ],
      "metadata": {
        "id": "n4-O1NpF31Ot"
      },
      "execution_count": null,
      "outputs": []
    },
    {
      "cell_type": "code",
      "source": [
        "#разбиваем на выборки\n",
        "X_train_upr, X_test_upr, y_train_upr, y_test_upr = train_test_split(\n",
        "    dataset_upr.loc[:, dataset_upr.columns != 'Модуль упругости при растяжении, ГПа'],\n",
        "    dataset_upr[['Модуль упругости при растяжении, ГПа']],\n",
        "       test_size = 0.3,\n",
        "    random_state = 42)"
      ],
      "metadata": {
        "id": "Bsa4viPGeTKA"
      },
      "execution_count": null,
      "outputs": []
    },
    {
      "cell_type": "code",
      "source": [
        "X_train_upr.shape"
      ],
      "metadata": {
        "id": "8p5INcWRmMZo"
      },
      "execution_count": null,
      "outputs": []
    },
    {
      "cell_type": "code",
      "source": [
        "X_test_upr.shape"
      ],
      "metadata": {
        "id": "DitUXFcKl-rB"
      },
      "execution_count": null,
      "outputs": []
    },
    {
      "cell_type": "code",
      "source": [
        "y_train_upr.shape"
      ],
      "metadata": {
        "id": "UMlhrsNhmiis"
      },
      "execution_count": null,
      "outputs": []
    },
    {
      "cell_type": "code",
      "source": [
        "y_test_upr.shape"
      ],
      "metadata": {
        "id": "ObiuOaWTmmdO"
      },
      "execution_count": null,
      "outputs": []
    },
    {
      "cell_type": "markdown",
      "source": [
        "**Случайный лес**"
      ],
      "metadata": {
        "id": "OuLtkkutzQfI"
      }
    },
    {
      "cell_type": "code",
      "source": [
        "#построение модели и вузуализация метода случайный лес\n",
        "rfr = RandomForestRegressor(n_estimators=15, max_depth=7, random_state=33)\n",
        "rfr.fit(X_train_upr, y_train_upr.values)\n",
        "y_forest = rfr.predict(X_test_upr)\n"
      ],
      "metadata": {
        "id": "6nLZkAUGzX58"
      },
      "execution_count": null,
      "outputs": []
    },
    {
      "cell_type": "code",
      "source": [
        "mean_absolute_forest = mean_absolute_error(y_test_upr, y_forest)*100\n",
        "mean_squared_forest = mean_squared_error(y_test_upr, y_forest)\n",
        "r2_score_forest = r2_score(y_test_upr, y_forest)\n",
        "mean_absolute_percentage_forest = mean_absolute_percentage_error(y_test_upr, y_forest)*100\n",
        "print('Средняя абсолютная ошибка', mean_absolute_forest)\n",
        "print('Средняя квадратичная ошибка', mean_squared_forest)\n",
        "print('Коэффициент детерминации', r2_score_forest)\n",
        "print('Средняя абсолютная процентная ошибка', mean_absolute_percentage_forest)"
      ],
      "metadata": {
        "id": "zjtUqz5S1W4y"
      },
      "execution_count": null,
      "outputs": []
    },
    {
      "cell_type": "code",
      "source": [
        "plt.figure(figsize = (10, 7))\n",
        "plt.title('Тестовые и прогнозные значения Метода случайного леса')\n",
        "plt.plot(y_forest, label = 'Прогноз', color = 'red')\n",
        "plt.plot(y_test_upr.values, label = 'Тест', color = 'green')\n",
        "plt.xlabel('Количество наблюдений')\n",
        "plt.ylabel('Модуль упругости при растяжении, ГПа')\n",
        "plt.legend()\n",
        "plt.grid(True)"
      ],
      "metadata": {
        "id": "9qfxD4sc5bqo"
      },
      "execution_count": null,
      "outputs": []
    },
    {
      "cell_type": "markdown",
      "source": [
        "**К-ближайших соседей**"
      ],
      "metadata": {
        "id": "hQU45UAp20RH"
      }
    },
    {
      "cell_type": "code",
      "source": [
        "#построение модели и вузуализация Метод К ближайших соседей\n",
        "knn = KNeighborsRegressor(n_neighbors=5)\n",
        "knn.fit(X_train_upr, y_train_upr)\n",
        "y_knn = knn.predict(X_test_upr)"
      ],
      "metadata": {
        "id": "2auBPXLz26nj"
      },
      "execution_count": null,
      "outputs": []
    },
    {
      "cell_type": "code",
      "source": [
        "mean_absolute_knn = mean_absolute_error(y_test_upr, y_knn)*100\n",
        "mean_squared_knn = mean_squared_error(y_test_upr, y_knn)\n",
        "r2_score_knn = r2_score(y_test_upr, y_knn)\n",
        "mean_absolute_percentage_knn = mean_absolute_percentage_error(y_test_upr, y_knn)*100\n",
        "print('Средняя абсолютная ошибка', mean_absolute_knn)\n",
        "print('Средняя квадратичная ошибка', mean_squared_knn)\n",
        "print('Коэффициент детерминации', r2_score_knn)\n",
        "print('Средняя абсолютная процентная ошибка', mean_absolute_percentage_knn)"
      ],
      "metadata": {
        "id": "irQm1P3V3H_B"
      },
      "execution_count": null,
      "outputs": []
    },
    {
      "cell_type": "code",
      "source": [
        "plt.figure(figsize = (10, 7))\n",
        "plt.title('Тестовые и прогнозные значения Метода К-ближайших соседей')\n",
        "plt.plot(y_knn, label = 'Прогноз', color = 'red')\n",
        "plt.plot(y_test_upr.values, label = 'Тест', color = 'green')\n",
        "plt.xlabel('Количество наблюдений')\n",
        "plt.ylabel('Модуль упругости при растяжении, ГПа')\n",
        "plt.legend()\n",
        "plt.grid(True)"
      ],
      "metadata": {
        "id": "SYUEuCX16osJ"
      },
      "execution_count": null,
      "outputs": []
    },
    {
      "cell_type": "markdown",
      "source": [
        "**Дерево решений**"
      ],
      "metadata": {
        "id": "S65_sEXe3dnj"
      }
    },
    {
      "cell_type": "code",
      "source": [
        "#построение модели и вузуализация Метода дерево решений\n",
        "dtr = DecisionTreeRegressor()\n",
        "dtr.fit(X_train_upr, y_train_upr.values)\n",
        "y_dtr = dtr.predict(X_test_upr)"
      ],
      "metadata": {
        "id": "B_927EYM3go_"
      },
      "execution_count": null,
      "outputs": []
    },
    {
      "cell_type": "code",
      "source": [
        "mean_absolute_dtr = mean_absolute_error(y_test_upr, y_dtr)*100\n",
        "mean_squared_dtr = mean_squared_error(y_test_upr, y_dtr)\n",
        "r2_score_dtr = r2_score(y_test_upr, y_dtr)\n",
        "mean_absolute_percentage_dtr = mean_absolute_percentage_error(y_test_upr, y_dtr)*100\n",
        "print('Средняя абсолютная ошибка', mean_absolute_dtr)\n",
        "print('Средняя квадратичная ошибка', mean_squared_dtr)\n",
        "print('Коэффициент детерминации', r2_score_dtr)\n",
        "print('Средняя абсолютная процентная ошибка', mean_absolute_percentage_dtr)"
      ],
      "metadata": {
        "id": "pJ0XL-hH3sQ2"
      },
      "execution_count": null,
      "outputs": []
    },
    {
      "cell_type": "code",
      "source": [
        "plt.figure(figsize = (10, 7))\n",
        "plt.title('Тестовые и прогнозные значения Метода дерева решений')\n",
        "plt.plot(y_dtr, label = 'Прогноз', color = 'red')\n",
        "plt.plot(y_test_upr.values, label = 'Тест', color = 'green')\n",
        "plt.xlabel('Количество наблюдений')\n",
        "plt.ylabel('Модуль упругости при растяжении, ГПа')\n",
        "plt.legend()\n",
        "plt.grid(True)"
      ],
      "metadata": {
        "id": "uRg22uT76zXf"
      },
      "execution_count": null,
      "outputs": []
    },
    {
      "cell_type": "code",
      "source": [
        "res = {'Модель':['Случайный лес',\n",
        "                 'К-ближайших соседей', 'Дерево решений'],\n",
        "       'Средняя абсолютная ошибка' : [mean_absolute_forest,\n",
        "                                      mean_absolute_knn, mean_absolute_dtr],\n",
        "       'Средняя квадратичная ошибка' : [mean_squared_forest,\n",
        "                                      mean_squared_knn, mean_squared_dtr],\n",
        "       'Коэффициент детерминации' : [r2_score_forest,\n",
        "                                      r2_score_knn, r2_score_dtr],\n",
        "       'Средняя абсолютная процентная ошибка': [mean_absolute_percentage_forest,\n",
        "                                      mean_absolute_percentage_knn, mean_absolute_percentage_dtr]}"
      ],
      "metadata": {
        "id": "xafCS_vqfntx"
      },
      "execution_count": null,
      "outputs": []
    },
    {
      "cell_type": "code",
      "source": [
        "res"
      ],
      "metadata": {
        "id": "UcpvhJ0wiQFz"
      },
      "execution_count": null,
      "outputs": []
    },
    {
      "cell_type": "code",
      "source": [
        "res = pd.DataFrame(res)\n",
        "res"
      ],
      "metadata": {
        "id": "CoAr9AokAdgt"
      },
      "execution_count": null,
      "outputs": []
    },
    {
      "cell_type": "markdown",
      "source": [
        "**Подбор гиперпараметров**"
      ],
      "metadata": {
        "id": "bys1U2BhL5MV"
      }
    },
    {
      "cell_type": "code",
      "source": [
        "#Случайный лес\n",
        "parametrs = { 'n_estimators': [200, 300],\n",
        "              'max_depth': [9, 15],\n",
        "              'max_features': ['auto'],\n",
        "              'criterion': ['mse'] }\n",
        "grid = GridSearchCV(estimator = rfr, param_grid = parametrs, cv = 10)\n",
        "grid.fit(X_train_upr, y_train_upr)"
      ],
      "metadata": {
        "id": "5LpqLR-mL_0a"
      },
      "execution_count": null,
      "outputs": []
    },
    {
      "cell_type": "code",
      "source": [
        "#параметры лучшей модели\n",
        "grid.best_params_"
      ],
      "metadata": {
        "id": "jJ4x3vzTMGPc"
      },
      "execution_count": null,
      "outputs": []
    },
    {
      "cell_type": "code",
      "source": [
        "#ошибка на лучшей модели\n",
        "print(grid.best_score_)"
      ],
      "metadata": {
        "id": "qs-Tgp-yMIMJ"
      },
      "execution_count": null,
      "outputs": []
    },
    {
      "cell_type": "code",
      "source": [
        "rfr_grid = RandomForestRegressor(n_estimators=200, criterion='mse', max_depth=9, max_features = 'auto')"
      ],
      "metadata": {
        "id": "wo5C8mnKMKOZ"
      },
      "execution_count": null,
      "outputs": []
    },
    {
      "cell_type": "code",
      "source": [
        "rfr_grid.fit(X_train_upr, y_train_upr.values)"
      ],
      "metadata": {
        "id": "pvqucqYtjqnf"
      },
      "execution_count": null,
      "outputs": []
    },
    {
      "cell_type": "code",
      "source": [
        "y_forest_grid = rfr_grid.predict(X_test_upr)"
      ],
      "metadata": {
        "id": "BN8xd3aejwvb"
      },
      "execution_count": null,
      "outputs": []
    },
    {
      "cell_type": "code",
      "source": [
        "mean_absolute_forest1 = mean_absolute_error(y_test_upr, y_forest_grid)*100\n",
        "mean_squared_forest1 = mean_squared_error(y_test_upr, y_forest_grid)\n",
        "r2_score_forest1 = r2_score(y_test_upr, y_forest_grid)\n",
        "mean_absolute_percentage_forest1 = mean_absolute_percentage_error(y_test_upr, y_forest_grid)*100\n",
        "print('Средняя абсолютная ошибка', mean_absolute_forest1)\n",
        "print('Средняя квадратичная ошибка', mean_squared_forest1)\n",
        "print('Коэффициент детерминации', r2_score_forest1)\n",
        "print('Средняя абсолютная процентная ошибка', mean_absolute_percentage_forest1)"
      ],
      "metadata": {
        "id": "sFCWVx2Pj1Tr"
      },
      "execution_count": null,
      "outputs": []
    },
    {
      "cell_type": "code",
      "source": [
        "plt.figure(figsize = (10, 7))\n",
        "plt.title('Тестовые и прогнозные значения Метода случайного леса')\n",
        "plt.plot(y_forest, label = 'Прогноз', color = 'red')\n",
        "plt.plot(y_test_upr.values, label = 'Тест', color = 'green')\n",
        "plt.xlabel('Количество наблюдений')\n",
        "plt.ylabel('Модуль упругости при растяжении, ГПа')\n",
        "plt.legend()\n",
        "plt.grid(True)"
      ],
      "metadata": {
        "id": "qQvDWa93j8Lj"
      },
      "execution_count": null,
      "outputs": []
    },
    {
      "cell_type": "code",
      "source": [
        "#К ближайших соседей\n",
        "knn = KNeighborsRegressor()\n",
        "knn_params = {'n_neighbors' : range(1, 301, 2), \n",
        "          'weights' : ['uniform', 'distance'],\n",
        "          'algorithm' : ['auto', 'ball_tree', 'kd_tree', 'brute']\n",
        "          }\n",
        "gs = GridSearchCV(knn, knn_params, cv = 10, verbose = 1, n_jobs =-1, scoring = 'r2')\n",
        "gs.fit(X_train_upr, y_train_upr)"
      ],
      "metadata": {
        "id": "5vFrjIGLkBz_"
      },
      "execution_count": null,
      "outputs": []
    },
    {
      "cell_type": "code",
      "source": [
        "#параметры лучшей модели\n",
        "gs.best_params_"
      ],
      "metadata": {
        "id": "m90NVheVrmQS"
      },
      "execution_count": null,
      "outputs": []
    },
    {
      "cell_type": "code",
      "source": [
        "#ошибка на лучшей модели\n",
        "print(gs.best_score_)"
      ],
      "metadata": {
        "id": "SmIuSxZkrrcJ"
      },
      "execution_count": null,
      "outputs": []
    },
    {
      "cell_type": "code",
      "source": [
        "knn_grid = KNeighborsRegressor(algorithm = 'brute', n_neighbors = 13, weights = 'distance')"
      ],
      "metadata": {
        "id": "qYKFjEZGrwHj"
      },
      "execution_count": null,
      "outputs": []
    },
    {
      "cell_type": "code",
      "source": [
        "knn_grid.fit(X_train_upr, y_train_upr)"
      ],
      "metadata": {
        "id": "6lVKQODvrzcD"
      },
      "execution_count": null,
      "outputs": []
    },
    {
      "cell_type": "code",
      "source": [
        "y_knn_grid = rfr_grid.predict(X_test_upr)"
      ],
      "metadata": {
        "id": "aR7PTPKAr4iu"
      },
      "execution_count": null,
      "outputs": []
    },
    {
      "cell_type": "code",
      "source": [
        "mean_absolute_knn1 = mean_absolute_error(y_test_upr, y_knn_grid)*100\n",
        "mean_squared_knn1 = mean_squared_error(y_test_upr, y_knn_grid)\n",
        "r2_score_knn1 = r2_score(y_test_upr, y_knn_grid)\n",
        "mean_absolute_percentage_knn1 = mean_absolute_percentage_error(y_test_upr, y_knn_grid)*100\n",
        "print('Средняя абсолютная ошибка', mean_absolute_knn1)\n",
        "print('Средняя квадратичная ошибка', mean_squared_knn1)\n",
        "print('Коэффициент детерминации', r2_score_knn1)\n",
        "print('Средняя абсолютная процентная ошибка', mean_absolute_percentage_knn1)"
      ],
      "metadata": {
        "id": "-f2XXU08r9hT"
      },
      "execution_count": null,
      "outputs": []
    },
    {
      "cell_type": "code",
      "source": [
        "plt.figure(figsize = (10, 7))\n",
        "plt.title('Тестовые и прогнозные значения Метода случайного леса')\n",
        "plt.plot(y_knn_grid, label = 'Прогноз', color = 'red')\n",
        "plt.plot(y_test_upr.values, label = 'Тест', color = 'green')\n",
        "plt.xlabel('Количество наблюдений')\n",
        "plt.ylabel('Модуль упругости при растяжении, ГПа')\n",
        "plt.legend()\n",
        "plt.grid(True)"
      ],
      "metadata": {
        "id": "BPaKeJUFsFPL"
      },
      "execution_count": null,
      "outputs": []
    },
    {
      "cell_type": "code",
      "source": [
        "#Дерево решений\n",
        "param_gr = {'criterion': ['squared_error', 'friedman_mse', 'absolute_error', 'poisson'],\n",
        "               'splitter': ['best', 'random'],\n",
        "               'max_depth': [3,5,7,9,11],\n",
        "               'min_samples_split': [200,250,300],\n",
        "               'min_samples_leaf': [100,150,200],\n",
        "               'max_features': ['auto', 'sqrt', 'log2']}\n",
        "grids = GridSearchCV(dtr, param_gr, cv = 10, verbose = 1, n_jobs=-1, scoring = 'r2')\n",
        "grids.fit(X_train_upr, y_train_upr)"
      ],
      "metadata": {
        "id": "fTgZ1OjisMb7"
      },
      "execution_count": null,
      "outputs": []
    },
    {
      "cell_type": "code",
      "source": [
        "#параметры лучшей модели\n",
        "grids.best_params_"
      ],
      "metadata": {
        "id": "SJVtGPeNshKT"
      },
      "execution_count": null,
      "outputs": []
    },
    {
      "cell_type": "code",
      "source": [
        "#ошибка на лучшей модели\n",
        "print(grids.best_score_)"
      ],
      "metadata": {
        "id": "qFvOAguvsl1S"
      },
      "execution_count": null,
      "outputs": []
    },
    {
      "cell_type": "code",
      "source": [
        "dtr_grid = DecisionTreeRegressor(criterion='poisson', max_depth=5, max_features='auto',\n",
        "                      min_samples_leaf=100, min_samples_split=200, splitter='best')"
      ],
      "metadata": {
        "id": "TZ8qBSP6sofj"
      },
      "execution_count": null,
      "outputs": []
    },
    {
      "cell_type": "code",
      "source": [
        "dtr_grid.fit(X_train_upr, y_train_upr)"
      ],
      "metadata": {
        "id": "T6j-ZdfDs2AB"
      },
      "execution_count": null,
      "outputs": []
    },
    {
      "cell_type": "code",
      "source": [
        "y_dtr_grid = rfr_grid.predict(X_test_upr)"
      ],
      "metadata": {
        "id": "aHk4yPojs6Hz"
      },
      "execution_count": null,
      "outputs": []
    },
    {
      "cell_type": "code",
      "source": [
        "mean_absolute_dtr1 = mean_absolute_error(y_test_upr, y_dtr_grid)*100\n",
        "mean_squared_dtr1 = mean_squared_error(y_test_upr, y_dtr_grid)\n",
        "r2_score_dtr1 = r2_score(y_test_upr, y_dtr_grid)\n",
        "mean_absolute_percentage_dtr1 = mean_absolute_percentage_error(y_test_upr, y_dtr_grid)*100\n",
        "print('Средняя абсолютная ошибка', mean_absolute_dtr1)\n",
        "print('Средняя квадратичная ошибка', mean_squared_dtr1)\n",
        "print('Коэффициент детерминации', r2_score_dtr1)\n",
        "print('Средняя абсолютная процентная ошибка', mean_absolute_percentage_dtr1)"
      ],
      "metadata": {
        "id": "O1yiAZMes9Xr"
      },
      "execution_count": null,
      "outputs": []
    },
    {
      "cell_type": "code",
      "source": [
        "plt.figure(figsize = (10, 7))\n",
        "plt.title('Тестовые и прогнозные значения Метода случайного леса')\n",
        "plt.plot(y_dtr_grid, label = 'Прогноз', color = 'red')\n",
        "plt.plot(y_test_upr.values, label = 'Тест', color = 'green')\n",
        "plt.xlabel('Количество наблюдений')\n",
        "plt.ylabel('Модуль упругости при растяжении, ГПа')\n",
        "plt.legend()\n",
        "plt.grid(True)"
      ],
      "metadata": {
        "id": "5sdkZtf7tD7C"
      },
      "execution_count": null,
      "outputs": []
    },
    {
      "cell_type": "code",
      "source": [
        "res1 = {'Модель':['Случайный лес',\n",
        "                 'К-ближайших соседей', 'Дерево решений'],\n",
        "       'Средняя абсолютная ошибка' : [mean_absolute_forest1,\n",
        "                                      mean_absolute_knn1, mean_absolute_dtr1],\n",
        "       'Средняя квадратичная ошибка' : [mean_squared_forest1,\n",
        "                                      mean_squared_knn1, mean_squared_dtr1],\n",
        "       'Коэффициент детерминации' : [r2_score_forest1,\n",
        "                                      r2_score_knn1, r2_score_dtr1],\n",
        "       'Средняя абсолютная процентная ошибка': [mean_absolute_percentage_forest1,\n",
        "                                      mean_absolute_percentage_knn1, mean_absolute_percentage_dtr1]}"
      ],
      "metadata": {
        "id": "AreleSjDtJEk"
      },
      "execution_count": null,
      "outputs": []
    },
    {
      "cell_type": "code",
      "source": [
        "res1"
      ],
      "metadata": {
        "id": "heUfcgqLtLXr"
      },
      "execution_count": null,
      "outputs": []
    },
    {
      "cell_type": "code",
      "source": [
        "res1 = pd.DataFrame(res1)\n",
        "res1"
      ],
      "metadata": {
        "id": "CpbwivXHAsq7"
      },
      "execution_count": null,
      "outputs": []
    }
  ]
}